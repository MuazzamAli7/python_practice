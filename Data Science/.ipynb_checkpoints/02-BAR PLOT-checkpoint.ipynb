{
 "cells": [
  {
   "cell_type": "code",
   "execution_count": 1,
   "id": "822589ee",
   "metadata": {},
   "outputs": [
    {
     "data": {
      "image/png": "[encoded data removed]",
      "text/plain": [
       "<Figure size 432x288 with 1 Axes>"
      ]
     },
     "metadata": {
      "needs_background": "light"
     },
     "output_type": "display_data"
    }
   ],
   "source": [
    "#STEP 1....IMPORT LIBRARIES\n",
    "import seaborn as sns\n",
    "import matplotlib.pyplot as plt\n",
    "#STEP 2....LOAD DATA SET\n",
    "flower=sns.load_dataset('iris') #iris is a data in seaborn lib\n",
    "#step 3...draw a bar plot\n",
    "sns.barplot(x='species',y='sepal_width',data=flower)\n",
    "plt.show()"
   ]
  },
  {
   "cell_type": "code",
   "execution_count": 3,
   "id": "bc8c6ee3",
   "metadata": {},
   "outputs": [
    {
     "data": {
      "text/html": [
       "<div>\n",
       "<style scoped>\n",
       "    .dataframe tbody tr th:only-of-type {\n",
       "        vertical-align: middle;\n",
       "    }\n",
       "\n",
       "    .dataframe tbody tr th {\n",
       "        vertical-align: top;\n",
       "    }\n",
       "\n",
       "    .dataframe thead th {\n",
       "        text-align: right;\n",
       "    }\n",
       "</style>\n",
       "<table border=\"1\" class=\"dataframe\">\n",
       "  <thead>\n",
       "    <tr style=\"text-align: right;\">\n",
       "      <th></th>\n",
       "      <th>sepal_length</th>\n",
       "      <th>sepal_width</th>\n",
       "      <th>petal_length</th>\n",
       "      <th>petal_width</th>\n",
       "      <th>species</th>\n",
       "    </tr>\n",
       "  </thead>\n",
       "  <tbody>\n",
       "    <tr>\n",
       "      <th>0</th>\n",
       "      <td>5.1</td>\n",
       "      <td>3.5</td>\n",
       "      <td>1.4</td>\n",
       "      <td>0.2</td>\n",
       "      <td>setosa</td>\n",
       "    </tr>\n",
       "    <tr>\n",
       "      <th>1</th>\n",
       "      <td>4.9</td>\n",
       "      <td>3.0</td>\n",
       "      <td>1.4</td>\n",
       "      <td>0.2</td>\n",
       "      <td>setosa</td>\n",
       "    </tr>\n",
       "    <tr>\n",
       "      <th>2</th>\n",
       "      <td>4.7</td>\n",
       "      <td>3.2</td>\n",
       "      <td>1.3</td>\n",
       "      <td>0.2</td>\n",
       "      <td>setosa</td>\n",
       "    </tr>\n",
       "    <tr>\n",
       "      <th>3</th>\n",
       "      <td>4.6</td>\n",
       "      <td>3.1</td>\n",
       "      <td>1.5</td>\n",
       "      <td>0.2</td>\n",
       "      <td>setosa</td>\n",
       "    </tr>\n",
       "    <tr>\n",
       "      <th>4</th>\n",
       "      <td>5.0</td>\n",
       "      <td>3.6</td>\n",
       "      <td>1.4</td>\n",
       "      <td>0.2</td>\n",
       "      <td>setosa</td>\n",
       "    </tr>\n",
       "    <tr>\n",
       "      <th>...</th>\n",
       "      <td>...</td>\n",
       "      <td>...</td>\n",
       "      <td>...</td>\n",
       "      <td>...</td>\n",
       "      <td>...</td>\n",
       "    </tr>\n",
       "    <tr>\n",
       "      <th>145</th>\n",
       "      <td>6.7</td>\n",
       "      <td>3.0</td>\n",
       "      <td>5.2</td>\n",
       "      <td>2.3</td>\n",
       "      <td>virginica</td>\n",
       "    </tr>\n",
       "    <tr>\n",
       "      <th>146</th>\n",
       "      <td>6.3</td>\n",
       "      <td>2.5</td>\n",
       "      <td>5.0</td>\n",
       "      <td>1.9</td>\n",
       "      <td>virginica</td>\n",
       "    </tr>\n",
       "    <tr>\n",
       "      <th>147</th>\n",
       "      <td>6.5</td>\n",
       "      <td>3.0</td>\n",
       "      <td>5.2</td>\n",
       "      <td>2.0</td>\n",
       "      <td>virginica</td>\n",
       "    </tr>\n",
       "    <tr>\n",
       "      <th>148</th>\n",
       "      <td>6.2</td>\n",
       "      <td>3.4</td>\n",
       "      <td>5.4</td>\n",
       "      <td>2.3</td>\n",
       "      <td>virginica</td>\n",
       "    </tr>\n",
       "    <tr>\n",
       "      <th>149</th>\n",
       "      <td>5.9</td>\n",
       "      <td>3.0</td>\n",
       "      <td>5.1</td>\n",
       "      <td>1.8</td>\n",
       "      <td>virginica</td>\n",
       "    </tr>\n",
       "  </tbody>\n",
       "</table>\n",
       "<p>150 rows × 5 columns</p>\n",
       "</div>"
      ],
      "text/plain": [
       "     sepal_length  sepal_width  petal_length  petal_width    species\n",
       "0             5.1          3.5           1.4          0.2     setosa\n",
       "1             4.9          3.0           1.4          0.2     setosa\n",
       "2             4.7          3.2           1.3          0.2     setosa\n",
       "3             4.6          3.1           1.5          0.2     setosa\n",
       "4             5.0          3.6           1.4          0.2     setosa\n",
       "..            ...          ...           ...          ...        ...\n",
       "145           6.7          3.0           5.2          2.3  virginica\n",
       "146           6.3          2.5           5.0          1.9  virginica\n",
       "147           6.5          3.0           5.2          2.0  virginica\n",
       "148           6.2          3.4           5.4          2.3  virginica\n",
       "149           5.9          3.0           5.1          1.8  virginica\n",
       "\n",
       "[150 rows x 5 columns]"
      ]
     },
     "execution_count": 3,
     "metadata": {},
     "output_type": "execute_result"
    }
   ],
   "source": [
    "flower"
   ]
  },
  {
   "cell_type": "code",
   "execution_count": 5,
   "id": "4b26f1fe",
   "metadata": {},
   "outputs": [
    {
     "data": {
      "image/png": "[encoded data removed]",
      "text/plain": [
       "<Figure size 432x288 with 1 Axes>"
      ]
     },
     "metadata": {
      "needs_background": "light"
     },
     "output_type": "display_data"
    }
   ],
   "source": [
    "#STEP 1....IMPORT LIBRARIES\n",
    "import seaborn as sns\n",
    "import matplotlib.pyplot as plt\n",
    "#STEP 2....LOAD DATA SET\n",
    "flower=sns.load_dataset('iris') #iris is a data in seaborn lib\n",
    "#step 3...draw a bar plot\n",
    "sns.barplot(x='species',y='petal_width',data=flower)\n",
    "plt.show()"
   ]
  },
  {
   "cell_type": "markdown",
   "id": "1dbefefc",
   "metadata": {},
   "source": [
    "# Setting order"
   ]
  },
  {
   "cell_type": "code",
   "execution_count": 27,
   "id": "9edf17ce",
   "metadata": {},
   "outputs": [
    {
     "data": {
      "image/png": "[encoded data removed]",
      "text/plain": [
       "<Figure size 432x288 with 1 Axes>"
      ]
     },
     "metadata": {
      "needs_background": "light"
     },
     "output_type": "display_data"
    }
   ],
   "source": [
    "#STEP 1....IMPORT LIBRARIES\n",
    "import seaborn as sns\n",
    "import matplotlib.pyplot as plt\n",
    "#STEP 2....LOAD DATA SET\n",
    "flower=sns.load_dataset('iris') #iris is a data in seaborn lib\n",
    "#step 3...draw a bar plot\n",
    "sns.barplot(x='species',y='petal_width',data=flower,order=['versicolor species','setosa','virginica'])\n",
    "plt.show()"
   ]
  },
  {
   "cell_type": "markdown",
   "id": "165f2ffc",
   "metadata": {},
   "source": [
    "# COLOR PALETTE"
   ]
  },
  {
   "cell_type": "code",
   "execution_count": 31,
   "id": "74855983",
   "metadata": {},
   "outputs": [
    {
     "data": {
      "image/png": "[encoded data removed]",
      "text/plain": [
       "<Figure size 432x288 with 1 Axes>"
      ]
     },
     "metadata": {
      "needs_background": "light"
     },
     "output_type": "display_data"
    }
   ],
   "source": [
    "#STEP 1....IMPORT LIBRARIES\n",
    "import seaborn as sns\n",
    "import matplotlib.pyplot as plt\n",
    "#STEP 2....LOAD DATA SET\n",
    "flower=sns.load_dataset('iris') #iris is a data in seaborn lib\n",
    "#step 3...draw a bar plot\n",
    "sns.barplot(x='species',y='petal_width',data=flower,order=['versicolor species','setosa','virginica'],color='yellow')\n",
    "plt.show()"
   ]
  },
  {
   "cell_type": "code",
   "execution_count": 32,
   "id": "bf5456d7",
   "metadata": {},
   "outputs": [
    {
     "data": {
      "image/png": "[encoded data removed]",
      "text/plain": [
       "<Figure size 432x288 with 1 Axes>"
      ]
     },
     "metadata": {
      "needs_background": "light"
     },
     "output_type": "display_data"
    }
   ],
   "source": [
    "#STEP 1....IMPORT LIBRARIES\n",
    "import seaborn as sns\n",
    "import matplotlib.pyplot as plt\n",
    "#STEP 2....LOAD DATA SET\n",
    "flower=sns.load_dataset('iris') #iris is a data in seaborn lib\n",
    "#step 3...draw a bar plot\n",
    "sns.barplot(x='species',y='petal_width',data=flower,order=['versicolor species','setosa','virginica'],color='yellow',ci=None)\n",
    "plt.show()"
   ]
  },
  {
   "cell_type": "code",
   "execution_count": 38,
   "id": "a72b2469",
   "metadata": {},
   "outputs": [
    {
     "name": "stdout",
     "output_type": "stream",
     "text": [
      "Requirement already satisfied: numpy in c:\\users\\dell\\anaconda3\\lib\\site-packages (1.20.1)Note: you may need to restart the kernel to use updated packages.\n",
      "\n"
     ]
    }
   ],
   "source": []
  },
  {
   "cell_type": "markdown",
   "id": "317d58d2",
   "metadata": {},
   "source": [
    "# ESTIMATOR\n",
    "- mean,mode,median etc"
   ]
  },
  {
   "cell_type": "code",
   "execution_count": 41,
   "id": "ccf0d83c",
   "metadata": {},
   "outputs": [
    {
     "data": {
      "image/png": "[encoded data removed]",
      "text/plain": [
       "<Figure size 432x288 with 1 Axes>"
      ]
     },
     "metadata": {
      "needs_background": "light"
     },
     "output_type": "display_data"
    }
   ],
   "source": [
    "# STEP 1....IMPORT LIBRARIES\n",
    "import seaborn as sns\n",
    "import matplotlib.pyplot as plt\n",
    "import numpy\n",
    "#STEP 2....LOAD DATA SET\n",
    "flower=sns.load_dataset('iris') #iris is a data in seaborn lib\n",
    "#step 3...draw a bar plot\n",
    "sns.barplot(x='species',y='petal_width',data=flower,estimator=mean) #...select data which generate mean\n",
    "plt.show()"
   ]
  },
  {
   "cell_type": "code",
   "execution_count": 44,
   "id": "6a11f70c",
   "metadata": {},
   "outputs": [
    {
     "data": {
      "image/png": "[encoded data removed]",
      "text/plain": [
       "<Figure size 432x288 with 1 Axes>"
      ]
     },
     "metadata": {
      "needs_background": "light"
     },
     "output_type": "display_data"
    }
   ],
   "source": [
    "# STEP 1....IMPORT LIBRARIES\n",
    "import seaborn as sns\n",
    "import matplotlib.pyplot as plt\n",
    "from numpy import median\n",
    "#STEP 2....LOAD DATA SET\n",
    "flower=sns.load_dataset('iris') #iris is a data in seaborn lib\n",
    "#step 3...draw a bar plot\n",
    "sns.barplot(x='species',y='petal_width',data=flower,estimator=median) #...select data which generate mean\n",
    "plt.show()"
   ]
  },
  {
   "cell_type": "markdown",
   "id": "34ed74f2",
   "metadata": {},
   "source": [
    "# color saturation"
   ]
  },
  {
   "cell_type": "code",
   "execution_count": 45,
   "id": "fa0d77a9",
   "metadata": {},
   "outputs": [
    {
     "data": {
      "image/png": "[encoded data removed]",
      "text/plain": [
       "<Figure size 432x288 with 1 Axes>"
      ]
     },
     "metadata": {
      "needs_background": "light"
     },
     "output_type": "display_data"
    }
   ],
   "source": [
    "# STEP 1....IMPORT LIBRARIES\n",
    "import seaborn as sns\n",
    "import matplotlib.pyplot as plt\n",
    "from numpy import median\n",
    "#STEP 2....LOAD DATA SET\n",
    "flower=sns.load_dataset('iris') #iris is a data in seaborn lib\n",
    "#step 3...draw a bar plot\n",
    "sns.barplot(x='species',y='petal_width',data=flower,estimator=median,saturation=1) #...select data which generate mean\n",
    "plt.show()"
   ]
  },
  {
   "cell_type": "code",
   "execution_count": 46,
   "id": "c83522ac",
   "metadata": {},
   "outputs": [
    {
     "data": {
      "image/png": "[encoded data removed]",
      "text/plain": [
       "<Figure size 432x288 with 1 Axes>"
      ]
     },
     "metadata": {
      "needs_background": "light"
     },
     "output_type": "display_data"
    }
   ],
   "source": [
    "# STEP 1....IMPORT LIBRARIES\n",
    "import seaborn as sns\n",
    "import matplotlib.pyplot as plt\n",
    "from numpy import median\n",
    "#STEP 2....LOAD DATA SET\n",
    "flower=sns.load_dataset('iris') #iris is a data in seaborn lib\n",
    "#step 3...draw a bar plot\n",
    "sns.barplot(x='species',y='petal_width',data=flower,estimator=median,saturation=0.2) #...select data which generate mean\n",
    "plt.show()"
   ]
  },
  {
   "cell_type": "markdown",
   "id": "b6c0008f",
   "metadata": {},
   "source": [
    "# horizontal bar plot"
   ]
  },
  {
   "cell_type": "code",
   "execution_count": 1,
   "id": "075e5a39",
   "metadata": {},
   "outputs": [
    {
     "data": {
      "image/png": "[encoded data removed]",
      "text/plain": [
       "<Figure size 432x288 with 1 Axes>"
      ]
     },
     "metadata": {
      "needs_background": "light"
     },
     "output_type": "display_data"
    }
   ],
   "source": [
    "# STEP 1....IMPORT LIBRARIES\n",
    "import seaborn as sns\n",
    "import matplotlib.pyplot as plt\n",
    "from numpy import median\n",
    "#STEP 2....LOAD DATA SET\n",
    "flower=sns.load_dataset('iris') #iris is a data in seaborn lib\n",
    "#step 3...draw a bar plot\n",
    "sns.barplot(x='petal_width',y='species',data=flower,estimator=median,saturation=1) #...select data which generate mean\n",
    "plt.show()"
   ]
  },
  {
   "cell_type": "code",
   "execution_count": 15,
   "id": "bffb0fc1",
   "metadata": {},
   "outputs": [
    {
     "data": {
      "image/png": "[encoded data removed]",
      "text/plain": [
       "<Figure size 432x288 with 1 Axes>"
      ]
     },
     "metadata": {
      "needs_background": "light"
     },
     "output_type": "display_data"
    }
   ],
   "source": [
    "#STEP 1....IMPORT LIBRARIES\n",
    "import seaborn as sns\n",
    "import matplotlib.pyplot as plt\n",
    "#STEP 2....LOAD DATA SET\n",
    "flower=sns.load_dataset('iris') #iris is a data in seaborn lib\n",
    "#step 3...draw a bar plot\n",
    "sns.barplot(x='species',y='sepal_width',data=flower,linewidth='5',errcolor='0.5',facecolor=(1,1,1,0),edgecolor='0')\n",
    "plt.show()"
   ]
  },
  {
   "cell_type": "code",
   "execution_count": null,
   "id": "b82532f0",
   "metadata": {},
   "outputs": [],
   "source": []
  }
 ],
 "metadata": {
  "kernelspec": {
   "display_name": "Python 3",
   "language": "python",
   "name": "python3"
  },
  "language_info": {
   "codemirror_mode": {
    "name": "ipython",
    "version": 3
   },
   "file_extension": ".py",
   "mimetype": "text/x-python",
   "name": "python",
   "nbconvert_exporter": "python",
   "pygments_lexer": "ipython3",
   "version": "3.8.8"
  }
 },
 "nbformat": 4,
 "nbformat_minor": 5
}
