{
 "cells": [
  {
   "cell_type": "markdown",
   "id": "65cf6069",
   "metadata": {},
   "source": [
    "# ASSIGNMENT OPERATORS"
   ]
  },
  {
   "cell_type": "code",
   "execution_count": 1,
   "id": "865a853d",
   "metadata": {},
   "outputs": [],
   "source": [
    "# # FOR X=5 ,X=5\n",
    "# # FOR X=X+5 WE WILL USE X+=5\n",
    "# FOR X=X-5 WE WILL USE x-=5\n",
    "# FOR X=X*5 WE WILL USE x*=5\n",
    "# FOR X=X**5 WE WILL USE x**=5\n",
    "# FOR X=X/5 WE WILL USE x/=5\n",
    "# FOR X=X//5 WE WILL USE x//=5\n",
    "# FOR X=X%5 WE WILL USE x%=5\n"
   ]
  },
  {
   "cell_type": "code",
   "execution_count": 2,
   "id": "c2739eed",
   "metadata": {},
   "outputs": [],
   "source": [
    "x=5\n",
    "x+=10"
   ]
  },
  {
   "cell_type": "code",
   "execution_count": 3,
   "id": "6b3e950b",
   "metadata": {},
   "outputs": [
    {
     "data": {
      "text/plain": [
       "15"
      ]
     },
     "execution_count": 3,
     "metadata": {},
     "output_type": "execute_result"
    }
   ],
   "source": [
    "x"
   ]
  },
  {
   "cell_type": "code",
   "execution_count": 10,
   "id": "992a2afa",
   "metadata": {},
   "outputs": [],
   "source": [
    "x=12\n",
    "x-=7"
   ]
  },
  {
   "cell_type": "code",
   "execution_count": 11,
   "id": "d3da4b38",
   "metadata": {},
   "outputs": [
    {
     "data": {
      "text/plain": [
       "5"
      ]
     },
     "execution_count": 11,
     "metadata": {},
     "output_type": "execute_result"
    }
   ],
   "source": [
    "x"
   ]
  },
  {
   "cell_type": "code",
   "execution_count": 12,
   "id": "6c058ab1",
   "metadata": {},
   "outputs": [],
   "source": [
    "x=3\n",
    "x*=7"
   ]
  },
  {
   "cell_type": "code",
   "execution_count": 13,
   "id": "5ec2c73a",
   "metadata": {},
   "outputs": [
    {
     "data": {
      "text/plain": [
       "21"
      ]
     },
     "execution_count": 13,
     "metadata": {},
     "output_type": "execute_result"
    }
   ],
   "source": [
    "x"
   ]
  },
  {
   "cell_type": "code",
   "execution_count": 18,
   "id": "27ac6d22",
   "metadata": {},
   "outputs": [],
   "source": [
    "x=4\n",
    "x*=3"
   ]
  },
  {
   "cell_type": "code",
   "execution_count": 19,
   "id": "74b54bf5",
   "metadata": {},
   "outputs": [
    {
     "data": {
      "text/plain": [
       "12"
      ]
     },
     "execution_count": 19,
     "metadata": {},
     "output_type": "execute_result"
    }
   ],
   "source": [
    "x"
   ]
  },
  {
   "cell_type": "code",
   "execution_count": 20,
   "id": "2aedcf68",
   "metadata": {},
   "outputs": [],
   "source": [
    "x=17\n",
    "x/=4"
   ]
  },
  {
   "cell_type": "code",
   "execution_count": 21,
   "id": "d151739c",
   "metadata": {},
   "outputs": [
    {
     "data": {
      "text/plain": [
       "4.25"
      ]
     },
     "execution_count": 21,
     "metadata": {},
     "output_type": "execute_result"
    }
   ],
   "source": [
    "x"
   ]
  },
  {
   "cell_type": "code",
   "execution_count": 22,
   "id": "fc3dc93a",
   "metadata": {},
   "outputs": [],
   "source": [
    "x=12\n",
    "x/=4"
   ]
  },
  {
   "cell_type": "code",
   "execution_count": 23,
   "id": "75ddc485",
   "metadata": {},
   "outputs": [
    {
     "data": {
      "text/plain": [
       "3.0"
      ]
     },
     "execution_count": 23,
     "metadata": {},
     "output_type": "execute_result"
    }
   ],
   "source": [
    "x"
   ]
  },
  {
   "cell_type": "code",
   "execution_count": 24,
   "id": "2ace02c8",
   "metadata": {},
   "outputs": [],
   "source": [
    "x=23\n",
    "x//=2"
   ]
  },
  {
   "cell_type": "code",
   "execution_count": 25,
   "id": "09529b08",
   "metadata": {},
   "outputs": [
    {
     "data": {
      "text/plain": [
       "11"
      ]
     },
     "execution_count": 25,
     "metadata": {},
     "output_type": "execute_result"
    }
   ],
   "source": [
    "x"
   ]
  },
  {
   "cell_type": "code",
   "execution_count": 26,
   "id": "cb3da688",
   "metadata": {},
   "outputs": [],
   "source": [
    "x=232\n",
    "x%=34"
   ]
  },
  {
   "cell_type": "code",
   "execution_count": 27,
   "id": "872e8fd2",
   "metadata": {},
   "outputs": [
    {
     "data": {
      "text/plain": [
       "28"
      ]
     },
     "execution_count": 27,
     "metadata": {},
     "output_type": "execute_result"
    }
   ],
   "source": [
    "x"
   ]
  },
  {
   "cell_type": "code",
   "execution_count": null,
   "id": "e9967db1",
   "metadata": {},
   "outputs": [],
   "source": []
  }
 ],
 "metadata": {
  "kernelspec": {
   "display_name": "Python 3",
   "language": "python",
   "name": "python3"
  },
  "language_info": {
   "codemirror_mode": {
    "name": "ipython",
    "version": 3
   },
   "file_extension": ".py",
   "mimetype": "text/x-python",
   "name": "python",
   "nbconvert_exporter": "python",
   "pygments_lexer": "ipython3",
   "version": "3.8.8"
  }
 },
 "nbformat": 4,
 "nbformat_minor": 5
}
