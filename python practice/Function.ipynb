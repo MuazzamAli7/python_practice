{
 "cells": [
  {
   "cell_type": "code",
   "execution_count": 1,
   "id": "19022e2c",
   "metadata": {},
   "outputs": [],
   "source": [
    "# #syntax ....def function name(argument)\n",
    "#                       statement\n",
    "#                       return    \n",
    " "
   ]
  },
  {
   "cell_type": "code",
   "execution_count": 2,
   "id": "2c351a76",
   "metadata": {},
   "outputs": [
    {
     "data": {
      "text/plain": [
       "9"
      ]
     },
     "execution_count": 2,
     "metadata": {},
     "output_type": "execute_result"
    }
   ],
   "source": [
    "x=3\n",
    "x**2"
   ]
  },
  {
   "cell_type": "code",
   "execution_count": 3,
   "id": "23d93fa9",
   "metadata": {},
   "outputs": [],
   "source": [
    "#define squrare function"
   ]
  },
  {
   "cell_type": "code",
   "execution_count": 4,
   "id": "f7b09bd5",
   "metadata": {},
   "outputs": [],
   "source": [
    "def square(x):\n",
    "    y=x**2\n",
    "    return(y)"
   ]
  },
  {
   "cell_type": "code",
   "execution_count": 5,
   "id": "0a5c2e96",
   "metadata": {},
   "outputs": [
    {
     "data": {
      "text/plain": [
       "4"
      ]
     },
     "execution_count": 5,
     "metadata": {},
     "output_type": "execute_result"
    }
   ],
   "source": [
    "square(2)"
   ]
  },
  {
   "cell_type": "code",
   "execution_count": 6,
   "id": "a55a17f7",
   "metadata": {},
   "outputs": [
    {
     "data": {
      "text/plain": [
       "49"
      ]
     },
     "execution_count": 6,
     "metadata": {},
     "output_type": "execute_result"
    }
   ],
   "source": [
    "square(7)"
   ]
  },
  {
   "cell_type": "code",
   "execution_count": 7,
   "id": "43b42d5b",
   "metadata": {},
   "outputs": [
    {
     "data": {
      "text/plain": [
       "6084"
      ]
     },
     "execution_count": 7,
     "metadata": {},
     "output_type": "execute_result"
    }
   ],
   "source": [
    "square(78)"
   ]
  },
  {
   "cell_type": "markdown",
   "id": "1c5fc5f5",
   "metadata": {},
   "source": [
    "# cube function"
   ]
  },
  {
   "cell_type": "code",
   "execution_count": 8,
   "id": "375d3196",
   "metadata": {},
   "outputs": [],
   "source": [
    "def cube(x):\n",
    "    y=x**3\n",
    "    return(y)"
   ]
  },
  {
   "cell_type": "code",
   "execution_count": 9,
   "id": "14319c5e",
   "metadata": {},
   "outputs": [
    {
     "data": {
      "text/plain": [
       "8"
      ]
     },
     "execution_count": 9,
     "metadata": {},
     "output_type": "execute_result"
    }
   ],
   "source": [
    "cube(2)"
   ]
  },
  {
   "cell_type": "code",
   "execution_count": 10,
   "id": "ca2177d2",
   "metadata": {},
   "outputs": [
    {
     "data": {
      "text/plain": [
       "27"
      ]
     },
     "execution_count": 10,
     "metadata": {},
     "output_type": "execute_result"
    }
   ],
   "source": [
    "cube(3)"
   ]
  },
  {
   "cell_type": "markdown",
   "id": "ac47cc15",
   "metadata": {},
   "source": [
    "# Addition"
   ]
  },
  {
   "cell_type": "code",
   "execution_count": 16,
   "id": "1e38ae0e",
   "metadata": {},
   "outputs": [],
   "source": [
    "def addition(a,b,c):\n",
    "    x=(a+b+c)\n",
    "    return(x)"
   ]
  },
  {
   "cell_type": "code",
   "execution_count": 17,
   "id": "ffd6464b",
   "metadata": {},
   "outputs": [
    {
     "data": {
      "text/plain": [
       "107"
      ]
     },
     "execution_count": 17,
     "metadata": {},
     "output_type": "execute_result"
    }
   ],
   "source": [
    "addition(21,32,54)"
   ]
  },
  {
   "cell_type": "code",
   "execution_count": 18,
   "id": "2deca2fe",
   "metadata": {},
   "outputs": [
    {
     "data": {
      "text/plain": [
       "155"
      ]
     },
     "execution_count": 18,
     "metadata": {},
     "output_type": "execute_result"
    }
   ],
   "source": [
    "addition(76,67,12)"
   ]
  },
  {
   "cell_type": "code",
   "execution_count": 32,
   "id": "c0d4e0d1",
   "metadata": {},
   "outputs": [],
   "source": [
    "def addition(a,b,c):\n",
    "    add=(a+b+c)\n",
    "    print(\"addition\",add)"
   ]
  },
  {
   "cell_type": "code",
   "execution_count": 33,
   "id": "35289c62",
   "metadata": {},
   "outputs": [
    {
     "name": "stdout",
     "output_type": "stream",
     "text": [
      "addition 45\n"
     ]
    }
   ],
   "source": [
    "addition(12,32,1)"
   ]
  },
  {
   "cell_type": "markdown",
   "id": "d213962f",
   "metadata": {},
   "source": [
    "# ADDITION AND MULTIPICATION"
   ]
  },
  {
   "cell_type": "code",
   "execution_count": 34,
   "id": "81ae8101",
   "metadata": {},
   "outputs": [],
   "source": [
    "def addmul(a,b,c):\n",
    "    add=(a+b+c)\n",
    "    mul=(a*b*c)\n",
    "    add=\"addition is\",str(add)\n",
    "    mul=\"multipication is\",str(mul)\n",
    "    print(add,mul)\n",
    "    \n"
   ]
  },
  {
   "cell_type": "code",
   "execution_count": 35,
   "id": "5d98e915",
   "metadata": {},
   "outputs": [
    {
     "name": "stdout",
     "output_type": "stream",
     "text": [
      "('addition is', '56') ('multipication is', '4608')\n"
     ]
    }
   ],
   "source": [
    "addmul(12,12,32)"
   ]
  },
  {
   "cell_type": "code",
   "execution_count": 36,
   "id": "7f1727e7",
   "metadata": {},
   "outputs": [],
   "source": [
    "def addmul(a,b,c):\n",
    "    add=(a+b+c)\n",
    "    mul=(a*b*c)\n",
    "    add=\"addition is\",str(add)\n",
    "    mul=\"multipication is\",str(mul)\n",
    "    return(add,mul)"
   ]
  },
  {
   "cell_type": "code",
   "execution_count": 37,
   "id": "0790121f",
   "metadata": {},
   "outputs": [
    {
     "data": {
      "text/plain": [
       "(('addition is', '9'), ('multipication is', '24'))"
      ]
     },
     "execution_count": 37,
     "metadata": {},
     "output_type": "execute_result"
    }
   ],
   "source": [
    "addmul(2,3,4)"
   ]
  },
  {
   "cell_type": "markdown",
   "id": "ca787b48",
   "metadata": {},
   "source": [
    "# Factorial"
   ]
  },
  {
   "cell_type": "code",
   "execution_count": 40,
   "id": "e4a7ddd2",
   "metadata": {},
   "outputs": [],
   "source": [
    "def factorial(x):\n",
    "    fact=1\n",
    "    for i in range(1,x+1):\n",
    "        fact=fact*i\n",
    "    return(fact)"
   ]
  },
  {
   "cell_type": "code",
   "execution_count": 41,
   "id": "1efcac54",
   "metadata": {},
   "outputs": [
    {
     "data": {
      "text/plain": [
       "120"
      ]
     },
     "execution_count": 41,
     "metadata": {},
     "output_type": "execute_result"
    }
   ],
   "source": [
    "factorial(5)"
   ]
  },
  {
   "cell_type": "code",
   "execution_count": 42,
   "id": "ff3f1a30",
   "metadata": {},
   "outputs": [
    {
     "data": {
      "text/plain": [
       "24"
      ]
     },
     "execution_count": 42,
     "metadata": {},
     "output_type": "execute_result"
    }
   ],
   "source": [
    "factorial(4)"
   ]
  },
  {
   "cell_type": "code",
   "execution_count": null,
   "id": "8a7f19ed",
   "metadata": {},
   "outputs": [],
   "source": []
  }
 ],
 "metadata": {
  "kernelspec": {
   "display_name": "Python 3",
   "language": "python",
   "name": "python3"
  },
  "language_info": {
   "codemirror_mode": {
    "name": "ipython",
    "version": 3
   },
   "file_extension": ".py",
   "mimetype": "text/x-python",
   "name": "python",
   "nbconvert_exporter": "python",
   "pygments_lexer": "ipython3",
   "version": "3.8.8"
  }
 },
 "nbformat": 4,
 "nbformat_minor": 5
}
