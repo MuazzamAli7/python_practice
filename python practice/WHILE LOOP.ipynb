{
 "cells": [
  {
   "cell_type": "code",
   "execution_count": 1,
   "id": "57450158",
   "metadata": {},
   "outputs": [
    {
     "name": "stdout",
     "output_type": "stream",
     "text": [
      "heloo\n",
      "heloo\n",
      "heloo\n"
     ]
    }
   ],
   "source": [
    "x=0\n",
    "while(x<5):\n",
    "    print('heloo')\n",
    "    x=x+2\n",
    "    "
   ]
  },
  {
   "cell_type": "code",
   "execution_count": 2,
   "id": "12c470f2",
   "metadata": {},
   "outputs": [
    {
     "name": "stdout",
     "output_type": "stream",
     "text": [
      "heloo\n",
      "heloo\n",
      "heloo\n",
      "heloo\n",
      "heloo\n"
     ]
    }
   ],
   "source": [
    "x=0\n",
    "while(x<5):\n",
    "    print('heloo')\n",
    "    x=x+1"
   ]
  },
  {
   "cell_type": "code",
   "execution_count": 4,
   "id": "fa1544db",
   "metadata": {},
   "outputs": [
    {
     "name": "stdout",
     "output_type": "stream",
     "text": [
      "12 14\n",
      "14 17\n",
      "16 20\n",
      "18 23\n",
      "20 26\n",
      "22 29\n",
      "24 32\n",
      "26 35\n",
      "28 38\n",
      "30 41\n",
      "32 44\n",
      "34 47\n",
      "36 50\n",
      "38 53\n",
      "40 56\n",
      "42 59\n",
      "44 62\n",
      "46 65\n"
     ]
    }
   ],
   "source": [
    "x=12\n",
    "y=14\n",
    "while(x+y<112):\n",
    "    print(x,y)\n",
    "    x=x+2\n",
    "    y=y+3"
   ]
  },
  {
   "cell_type": "code",
   "execution_count": null,
   "id": "982007f8",
   "metadata": {},
   "outputs": [],
   "source": []
  }
 ],
 "metadata": {
  "kernelspec": {
   "display_name": "Python 3",
   "language": "python",
   "name": "python3"
  },
  "language_info": {
   "codemirror_mode": {
    "name": "ipython",
    "version": 3
   },
   "file_extension": ".py",
   "mimetype": "text/x-python",
   "name": "python",
   "nbconvert_exporter": "python",
   "pygments_lexer": "ipython3",
   "version": "3.8.8"
  }
 },
 "nbformat": 4,
 "nbformat_minor": 5
}
