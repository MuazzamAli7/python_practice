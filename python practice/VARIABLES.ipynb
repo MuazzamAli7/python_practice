{
 "cells": [
  {
   "cell_type": "markdown",
   "id": "36ee1a7b",
   "metadata": {},
   "source": [
    "# VARIABLES,VALID VARIABLE NAMES AND AIRTHEMATIC OPERATIONS ON VARIABLES "
   ]
  },
  {
   "cell_type": "code",
   "execution_count": 7,
   "id": "c8443f1a",
   "metadata": {},
   "outputs": [],
   "source": [
    "#variables can only start with letter or \"_\"\n",
    "#variables only contain letters,numbers and\"_\"\n",
    "var1=10"
   ]
  },
  {
   "cell_type": "code",
   "execution_count": 9,
   "id": "e56c2de4",
   "metadata": {},
   "outputs": [],
   "source": [
    "var10=15"
   ]
  },
  {
   "cell_type": "code",
   "execution_count": 11,
   "id": "5be5dbf7",
   "metadata": {},
   "outputs": [
    {
     "data": {
      "text/plain": [
       "15"
      ]
     },
     "execution_count": 11,
     "metadata": {},
     "output_type": "execute_result"
    }
   ],
   "source": [
    "var10"
   ]
  },
  {
   "cell_type": "code",
   "execution_count": 14,
   "id": "4afe7576",
   "metadata": {},
   "outputs": [],
   "source": [
    "_var=12"
   ]
  },
  {
   "cell_type": "code",
   "execution_count": 16,
   "id": "35ed6cd0",
   "metadata": {},
   "outputs": [
    {
     "data": {
      "text/plain": [
       "12"
      ]
     },
     "execution_count": 16,
     "metadata": {},
     "output_type": "execute_result"
    }
   ],
   "source": [
    "_var"
   ]
  },
  {
   "cell_type": "code",
   "execution_count": 19,
   "id": "2342aa30",
   "metadata": {},
   "outputs": [],
   "source": [
    "x=5\n",
    "y=12\n"
   ]
  },
  {
   "cell_type": "code",
   "execution_count": 28,
   "id": "1eec9647",
   "metadata": {},
   "outputs": [
    {
     "data": {
      "text/plain": [
       "17"
      ]
     },
     "execution_count": 28,
     "metadata": {},
     "output_type": "execute_result"
    }
   ],
   "source": [
    "x+y"
   ]
  },
  {
   "cell_type": "code",
   "execution_count": 30,
   "id": "9370bd8e",
   "metadata": {},
   "outputs": [
    {
     "data": {
      "text/plain": [
       "0.4166666666666667"
      ]
     },
     "execution_count": 30,
     "metadata": {},
     "output_type": "execute_result"
    }
   ],
   "source": [
    "x/y"
   ]
  },
  {
   "cell_type": "code",
   "execution_count": 31,
   "id": "de65d2aa",
   "metadata": {},
   "outputs": [
    {
     "data": {
      "text/plain": [
       "60"
      ]
     },
     "execution_count": 31,
     "metadata": {},
     "output_type": "execute_result"
    }
   ],
   "source": [
    "x*y"
   ]
  },
  {
   "cell_type": "code",
   "execution_count": 32,
   "id": "c1986678",
   "metadata": {},
   "outputs": [
    {
     "data": {
      "text/plain": [
       "0"
      ]
     },
     "execution_count": 32,
     "metadata": {},
     "output_type": "execute_result"
    }
   ],
   "source": [
    "x//y"
   ]
  },
  {
   "cell_type": "code",
   "execution_count": 34,
   "id": "45273aa6",
   "metadata": {},
   "outputs": [
    {
     "data": {
      "text/plain": [
       "2"
      ]
     },
     "execution_count": 34,
     "metadata": {},
     "output_type": "execute_result"
    }
   ],
   "source": [
    "y//x"
   ]
  },
  {
   "cell_type": "code",
   "execution_count": 36,
   "id": "fc0ce5ae",
   "metadata": {},
   "outputs": [
    {
     "data": {
      "text/plain": [
       "5"
      ]
     },
     "execution_count": 36,
     "metadata": {},
     "output_type": "execute_result"
    }
   ],
   "source": [
    "x%y"
   ]
  },
  {
   "cell_type": "code",
   "execution_count": 38,
   "id": "1ada336b",
   "metadata": {},
   "outputs": [
    {
     "data": {
      "text/plain": [
       "2"
      ]
     },
     "execution_count": 38,
     "metadata": {},
     "output_type": "execute_result"
    }
   ],
   "source": [
    "y%x"
   ]
  },
  {
   "cell_type": "code",
   "execution_count": 39,
   "id": "38c7a159",
   "metadata": {},
   "outputs": [
    {
     "data": {
      "text/plain": [
       "244140625"
      ]
     },
     "execution_count": 39,
     "metadata": {},
     "output_type": "execute_result"
    }
   ],
   "source": [
    "x**y"
   ]
  },
  {
   "cell_type": "code",
   "execution_count": 40,
   "id": "19d3ab53",
   "metadata": {},
   "outputs": [
    {
     "data": {
      "text/plain": [
       "248832"
      ]
     },
     "execution_count": 40,
     "metadata": {},
     "output_type": "execute_result"
    }
   ],
   "source": [
    "y**x"
   ]
  },
  {
   "cell_type": "code",
   "execution_count": 41,
   "id": "fef8fa36",
   "metadata": {},
   "outputs": [
    {
     "data": {
      "text/plain": [
       "244140625"
      ]
     },
     "execution_count": 41,
     "metadata": {},
     "output_type": "execute_result"
    }
   ],
   "source": [
    "pow(x,y)"
   ]
  },
  {
   "cell_type": "code",
   "execution_count": 42,
   "id": "524f4865",
   "metadata": {},
   "outputs": [
    {
     "data": {
      "text/plain": [
       "248832"
      ]
     },
     "execution_count": 42,
     "metadata": {},
     "output_type": "execute_result"
    }
   ],
   "source": [
    "pow(y,x)"
   ]
  },
  {
   "cell_type": "code",
   "execution_count": 43,
   "id": "d0c33d80",
   "metadata": {},
   "outputs": [
    {
     "data": {
      "text/plain": [
       "-7"
      ]
     },
     "execution_count": 43,
     "metadata": {},
     "output_type": "execute_result"
    }
   ],
   "source": [
    "x-y"
   ]
  },
  {
   "cell_type": "code",
   "execution_count": 44,
   "id": "1c573d42",
   "metadata": {},
   "outputs": [
    {
     "data": {
      "text/plain": [
       "7"
      ]
     },
     "execution_count": 44,
     "metadata": {},
     "output_type": "execute_result"
    }
   ],
   "source": [
    "y-x"
   ]
  },
  {
   "cell_type": "code",
   "execution_count": null,
   "id": "f6eacf07",
   "metadata": {},
   "outputs": [],
   "source": []
  }
 ],
 "metadata": {
  "kernelspec": {
   "display_name": "Python 3",
   "language": "python",
   "name": "python3"
  },
  "language_info": {
   "codemirror_mode": {
    "name": "ipython",
    "version": 3
   },
   "file_extension": ".py",
   "mimetype": "text/x-python",
   "name": "python",
   "nbconvert_exporter": "python",
   "pygments_lexer": "ipython3",
   "version": "3.8.8"
  }
 },
 "nbformat": 4,
 "nbformat_minor": 5
}
