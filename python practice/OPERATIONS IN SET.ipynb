{
 "cells": [
  {
   "cell_type": "code",
   "execution_count": 1,
   "id": "1e55b94f",
   "metadata": {},
   "outputs": [],
   "source": [
    "A={1,2,3,4,5,6,7}\n",
    "B={1,7,8,9,10}"
   ]
  },
  {
   "cell_type": "code",
   "execution_count": 7,
   "id": "1143d0a2",
   "metadata": {},
   "outputs": [],
   "source": [
    "#UNION...WILL GIVE UNION OF TWO SETS"
   ]
  },
  {
   "cell_type": "code",
   "execution_count": 2,
   "id": "73a37e42",
   "metadata": {},
   "outputs": [
    {
     "data": {
      "text/plain": [
       "{1, 2, 3, 4, 5, 6, 7, 8, 9, 10}"
      ]
     },
     "execution_count": 2,
     "metadata": {},
     "output_type": "execute_result"
    }
   ],
   "source": [
    "A.unio`n(B)"
   ]
  },
  {
   "cell_type": "code",
   "execution_count": 8,
   "id": "c1030fb1",
   "metadata": {},
   "outputs": [],
   "source": [
    "#INTERSECTION,,,,WILL GIVE COMMON ELEMENTS IN BOTH SETS"
   ]
  },
  {
   "cell_type": "code",
   "execution_count": 3,
   "id": "43bc65c3",
   "metadata": {},
   "outputs": [
    {
     "data": {
      "text/plain": [
       "{1, 7}"
      ]
     },
     "execution_count": 3,
     "metadata": {},
     "output_type": "execute_result"
    }
   ],
   "source": [
    "A.intersection(B)"
   ]
  },
  {
   "cell_type": "code",
   "execution_count": 9,
   "id": "78507c45",
   "metadata": {},
   "outputs": [],
   "source": [
    "# A - B...WILL GIVE ELEMENTS IN A BUT NOT B"
   ]
  },
  {
   "cell_type": "code",
   "execution_count": 4,
   "id": "dd453211",
   "metadata": {},
   "outputs": [
    {
     "data": {
      "text/plain": [
       "{2, 3, 4, 5, 6}"
      ]
     },
     "execution_count": 4,
     "metadata": {},
     "output_type": "execute_result"
    }
   ],
   "source": [
    "A-B"
   ]
  },
  {
   "cell_type": "code",
   "execution_count": 10,
   "id": "cbeade51",
   "metadata": {},
   "outputs": [],
   "source": [
    "# B - A...WILL GIVE ELEMENTS IN B BUT NOT A"
   ]
  },
  {
   "cell_type": "code",
   "execution_count": 5,
   "id": "992b2fa1",
   "metadata": {},
   "outputs": [
    {
     "data": {
      "text/plain": [
       "{8, 9, 10}"
      ]
     },
     "execution_count": 5,
     "metadata": {},
     "output_type": "execute_result"
    }
   ],
   "source": [
    "B-A"
   ]
  },
  {
   "cell_type": "code",
   "execution_count": 12,
   "id": "3ba7ccef",
   "metadata": {},
   "outputs": [],
   "source": [
    "#A^B WILL GIVE UN COMMON ELEMENTS...DISJOINT SET"
   ]
  },
  {
   "cell_type": "code",
   "execution_count": 6,
   "id": "b244b75a",
   "metadata": {},
   "outputs": [
    {
     "data": {
      "text/plain": [
       "{2, 3, 4, 5, 6, 8, 9, 10}"
      ]
     },
     "execution_count": 6,
     "metadata": {},
     "output_type": "execute_result"
    }
   ],
   "source": [
    "A^B"
   ]
  },
  {
   "cell_type": "code",
   "execution_count": null,
   "id": "52943c7d",
   "metadata": {},
   "outputs": [],
   "source": []
  }
 ],
 "metadata": {
  "kernelspec": {
   "display_name": "Python 3",
   "language": "python",
   "name": "python3"
  },
  "language_info": {
   "codemirror_mode": {
    "name": "ipython",
    "version": 3
   },
   "file_extension": ".py",
   "mimetype": "text/x-python",
   "name": "python",
   "nbconvert_exporter": "python",
   "pygments_lexer": "ipython3",
   "version": "3.8.8"
  }
 },
 "nbformat": 4,
 "nbformat_minor": 5
}
