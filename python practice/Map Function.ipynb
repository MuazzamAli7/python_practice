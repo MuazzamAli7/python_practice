{
 "cells": [
  {
   "cell_type": "code",
   "execution_count": 2,
   "id": "718e90f4",
   "metadata": {},
   "outputs": [],
   "source": [
    "# #a map function takes a function and iter(tuple/list) as an argument and returns a map object of all the results,\n",
    "# which is an iterator after applying the function to all the elements in iter."
   ]
  },
  {
   "cell_type": "code",
   "execution_count": 3,
   "id": "694413ab",
   "metadata": {},
   "outputs": [],
   "source": [
    "#syntax map(function,iter)"
   ]
  },
  {
   "cell_type": "code",
   "execution_count": 4,
   "id": "15a56786",
   "metadata": {},
   "outputs": [],
   "source": [
    "x=[1,2,3,4,5,6]"
   ]
  },
  {
   "cell_type": "code",
   "execution_count": 7,
   "id": "172f20e0",
   "metadata": {},
   "outputs": [],
   "source": [
    "def square(x):\n",
    "    return(x**2)"
   ]
  },
  {
   "cell_type": "code",
   "execution_count": 8,
   "id": "131dd528",
   "metadata": {},
   "outputs": [],
   "source": [
    "y=map(square,x)"
   ]
  },
  {
   "cell_type": "code",
   "execution_count": 9,
   "id": "58f77fea",
   "metadata": {},
   "outputs": [
    {
     "data": {
      "text/plain": [
       "<map at 0x1d0d36d43d0>"
      ]
     },
     "execution_count": 9,
     "metadata": {},
     "output_type": "execute_result"
    }
   ],
   "source": [
    "y"
   ]
  },
  {
   "cell_type": "code",
   "execution_count": 11,
   "id": "98fcadb9",
   "metadata": {},
   "outputs": [
    {
     "data": {
      "text/plain": [
       "[1, 4, 9, 16, 25, 36]"
      ]
     },
     "execution_count": 11,
     "metadata": {},
     "output_type": "execute_result"
    }
   ],
   "source": [
    "list(y)"
   ]
  },
  {
   "cell_type": "code",
   "execution_count": 12,
   "id": "75f5ec4f",
   "metadata": {},
   "outputs": [],
   "source": [
    "a=(10,20,30,40,50)"
   ]
  },
  {
   "cell_type": "code",
   "execution_count": 13,
   "id": "3aa2972a",
   "metadata": {},
   "outputs": [],
   "source": [
    "def add(x):\n",
    "    return(x+100)"
   ]
  },
  {
   "cell_type": "code",
   "execution_count": 14,
   "id": "429c2b4e",
   "metadata": {},
   "outputs": [],
   "source": [
    "b=map(add,a)"
   ]
  },
  {
   "cell_type": "code",
   "execution_count": 15,
   "id": "edb9e528",
   "metadata": {},
   "outputs": [
    {
     "data": {
      "text/plain": [
       "<map at 0x1d0d36d4d60>"
      ]
     },
     "execution_count": 15,
     "metadata": {},
     "output_type": "execute_result"
    }
   ],
   "source": [
    "b"
   ]
  },
  {
   "cell_type": "code",
   "execution_count": 16,
   "id": "4361dbd8",
   "metadata": {},
   "outputs": [
    {
     "data": {
      "text/plain": [
       "(110, 120, 130, 140, 150)"
      ]
     },
     "execution_count": 16,
     "metadata": {},
     "output_type": "execute_result"
    }
   ],
   "source": [
    "tuple(b)"
   ]
  },
  {
   "cell_type": "code",
   "execution_count": 17,
   "id": "6be1953b",
   "metadata": {},
   "outputs": [],
   "source": [
    "a=[1,2,3,4,5,6]\n",
    "b=[2,4,6,7,8,9]"
   ]
  },
  {
   "cell_type": "code",
   "execution_count": 18,
   "id": "8f5e0a61",
   "metadata": {},
   "outputs": [],
   "source": [
    "def add(x,y):\n",
    "    return(x+y)"
   ]
  },
  {
   "cell_type": "code",
   "execution_count": 19,
   "id": "cd5c1b82",
   "metadata": {},
   "outputs": [],
   "source": [
    "Z=map(add,a,b)"
   ]
  },
  {
   "cell_type": "code",
   "execution_count": 20,
   "id": "bbd4644a",
   "metadata": {},
   "outputs": [
    {
     "data": {
      "text/plain": [
       "[3, 6, 9, 11, 13, 15]"
      ]
     },
     "execution_count": 20,
     "metadata": {},
     "output_type": "execute_result"
    }
   ],
   "source": [
    "list(Z)"
   ]
  },
  {
   "cell_type": "code",
   "execution_count": 21,
   "id": "ca456f1c",
   "metadata": {},
   "outputs": [],
   "source": [
    "a=[1,2,3]"
   ]
  },
  {
   "cell_type": "code",
   "execution_count": 22,
   "id": "61e40b5d",
   "metadata": {},
   "outputs": [],
   "source": [
    "b=[2,3]"
   ]
  },
  {
   "cell_type": "code",
   "execution_count": 23,
   "id": "998b679f",
   "metadata": {},
   "outputs": [],
   "source": [
    "z=map(add,a,b)"
   ]
  },
  {
   "cell_type": "code",
   "execution_count": 24,
   "id": "fd0ae736",
   "metadata": {},
   "outputs": [
    {
     "data": {
      "text/plain": [
       "[3, 5]"
      ]
     },
     "execution_count": 24,
     "metadata": {},
     "output_type": "execute_result"
    }
   ],
   "source": [
    "list(z)"
   ]
  },
  {
   "cell_type": "code",
   "execution_count": 25,
   "id": "cc3d77fd",
   "metadata": {},
   "outputs": [],
   "source": [
    "A=[1,2,3,4,5,6,7,8,9,10]"
   ]
  },
  {
   "cell_type": "code",
   "execution_count": 26,
   "id": "9365790d",
   "metadata": {},
   "outputs": [],
   "source": [
    "def evenorodd(x):\n",
    "    if x%2==0:\n",
    "        return('even')\n",
    "    else:\n",
    "        return('odd')"
   ]
  },
  {
   "cell_type": "code",
   "execution_count": 29,
   "id": "53278dda",
   "metadata": {},
   "outputs": [],
   "source": [
    "Z=map(evenorodd,A)"
   ]
  },
  {
   "cell_type": "code",
   "execution_count": 30,
   "id": "516432fd",
   "metadata": {},
   "outputs": [
    {
     "data": {
      "text/plain": [
       "['odd', 'even', 'odd', 'even', 'odd', 'even', 'odd', 'even', 'odd', 'even']"
      ]
     },
     "execution_count": 30,
     "metadata": {},
     "output_type": "execute_result"
    }
   ],
   "source": [
    "list(Z)"
   ]
  },
  {
   "cell_type": "code",
   "execution_count": null,
   "id": "0b841b4b",
   "metadata": {},
   "outputs": [],
   "source": []
  }
 ],
 "metadata": {
  "kernelspec": {
   "display_name": "Python 3",
   "language": "python",
   "name": "python3"
  },
  "language_info": {
   "codemirror_mode": {
    "name": "ipython",
    "version": 3
   },
   "file_extension": ".py",
   "mimetype": "text/x-python",
   "name": "python",
   "nbconvert_exporter": "python",
   "pygments_lexer": "ipython3",
   "version": "3.8.8"
  }
 },
 "nbformat": 4,
 "nbformat_minor": 5
}
