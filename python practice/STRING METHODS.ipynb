{
 "cells": [
  {
   "cell_type": "code",
   "execution_count": 1,
   "id": "912de412",
   "metadata": {},
   "outputs": [],
   "source": [
    "A=' HELLO WORLD  '\n",
    "B='I Love Football...'\n",
    "C='SUWON,GILGIT,SEOUL,KARACHI,YEONGJONG'"
   ]
  },
  {
   "cell_type": "markdown",
   "id": "3adaf6ec",
   "metadata": {},
   "source": [
    "# STRIP"
   ]
  },
  {
   "cell_type": "code",
   "execution_count": 2,
   "id": "01bc8b71",
   "metadata": {},
   "outputs": [
    {
     "data": {
      "text/plain": [
       "' HELLO WORLD  '"
      ]
     },
     "execution_count": 2,
     "metadata": {},
     "output_type": "execute_result"
    }
   ],
   "source": [
    "#A.strip() will remove all the white spaces before and after the string\n",
    "A"
   ]
  },
  {
   "cell_type": "code",
   "execution_count": 3,
   "id": "68279407",
   "metadata": {},
   "outputs": [
    {
     "data": {
      "text/plain": [
       "'HELLO WORLD'"
      ]
     },
     "execution_count": 3,
     "metadata": {},
     "output_type": "execute_result"
    }
   ],
   "source": [
    "A.strip()"
   ]
  },
  {
   "cell_type": "markdown",
   "id": "5578f032",
   "metadata": {},
   "source": [
    "# LOWER and UPPER"
   ]
  },
  {
   "cell_type": "code",
   "execution_count": 5,
   "id": "189964c4",
   "metadata": {},
   "outputs": [
    {
     "data": {
      "text/plain": [
       "'i love football...'"
      ]
     },
     "execution_count": 5,
     "metadata": {},
     "output_type": "execute_result"
    }
   ],
   "source": [
    "#B.lower will bring the all the characters in a string to the lowercase\n",
    "B.lower()"
   ]
  },
  {
   "cell_type": "code",
   "execution_count": 6,
   "id": "42e8cb00",
   "metadata": {},
   "outputs": [
    {
     "data": {
      "text/plain": [
       "'suwon,gilgit,seoul,karachi,yeongjong'"
      ]
     },
     "execution_count": 6,
     "metadata": {},
     "output_type": "execute_result"
    }
   ],
   "source": [
    "C.lower()"
   ]
  },
  {
   "cell_type": "code",
   "execution_count": 7,
   "id": "1187f687",
   "metadata": {},
   "outputs": [
    {
     "data": {
      "text/plain": [
       "'SUWON,GILGIT,SEOUL,KARACHI,YEONGJONG'"
      ]
     },
     "execution_count": 7,
     "metadata": {},
     "output_type": "execute_result"
    }
   ],
   "source": [
    "C.upper()"
   ]
  },
  {
   "cell_type": "code",
   "execution_count": 11,
   "id": "51ac5779",
   "metadata": {},
   "outputs": [
    {
     "data": {
      "text/plain": [
       "'suwon,gilgit,seoul,karachi,yeongjong'"
      ]
     },
     "execution_count": 11,
     "metadata": {},
     "output_type": "execute_result"
    }
   ],
   "source": [
    "C.lower()"
   ]
  },
  {
   "cell_type": "markdown",
   "id": "5f4ead96",
   "metadata": {},
   "source": [
    "# REPLACE"
   ]
  },
  {
   "cell_type": "code",
   "execution_count": 12,
   "id": "5904ea67",
   "metadata": {},
   "outputs": [
    {
     "data": {
      "text/plain": [
       "' HELLO WORLD  '"
      ]
     },
     "execution_count": 12,
     "metadata": {},
     "output_type": "execute_result"
    }
   ],
   "source": [
    "A"
   ]
  },
  {
   "cell_type": "code",
   "execution_count": 13,
   "id": "642bff70",
   "metadata": {},
   "outputs": [
    {
     "data": {
      "text/plain": [
       "' HI WORLD  '"
      ]
     },
     "execution_count": 13,
     "metadata": {},
     "output_type": "execute_result"
    }
   ],
   "source": [
    "A.replace('HELLO','HI')"
   ]
  },
  {
   "cell_type": "code",
   "execution_count": 15,
   "id": "0270d559",
   "metadata": {},
   "outputs": [
    {
     "data": {
      "text/plain": [
       "' HELLO WORLD  '"
      ]
     },
     "execution_count": 15,
     "metadata": {},
     "output_type": "execute_result"
    }
   ],
   "source": [
    "A"
   ]
  },
  {
   "cell_type": "code",
   "execution_count": 16,
   "id": "e8ffd6ae",
   "metadata": {},
   "outputs": [
    {
     "data": {
      "text/plain": [
       "' hi WORLD  '"
      ]
     },
     "execution_count": 16,
     "metadata": {},
     "output_type": "execute_result"
    }
   ],
   "source": [
    "A.replace('HELLO','hi')"
   ]
  },
  {
   "cell_type": "code",
   "execution_count": 17,
   "id": "1eb6ee68",
   "metadata": {},
   "outputs": [
    {
     "data": {
      "text/plain": [
       "' HELLO WORLD  '"
      ]
     },
     "execution_count": 17,
     "metadata": {},
     "output_type": "execute_result"
    }
   ],
   "source": [
    "A"
   ]
  },
  {
   "cell_type": "code",
   "execution_count": 18,
   "id": "892c190e",
   "metadata": {},
   "outputs": [],
   "source": [
    "A=A.replace('HELLO','HI')"
   ]
  },
  {
   "cell_type": "code",
   "execution_count": 19,
   "id": "65e07a48",
   "metadata": {},
   "outputs": [
    {
     "data": {
      "text/plain": [
       "' HI WORLD  '"
      ]
     },
     "execution_count": 19,
     "metadata": {},
     "output_type": "execute_result"
    }
   ],
   "source": [
    "A"
   ]
  },
  {
   "cell_type": "code",
   "execution_count": 20,
   "id": "648b2186",
   "metadata": {},
   "outputs": [
    {
     "data": {
      "text/plain": [
       "'+HI+WORLD++'"
      ]
     },
     "execution_count": 20,
     "metadata": {},
     "output_type": "execute_result"
    }
   ],
   "source": [
    "A.replace(' ','+')"
   ]
  },
  {
   "cell_type": "code",
   "execution_count": 21,
   "id": "17cb87c0",
   "metadata": {},
   "outputs": [
    {
     "data": {
      "text/plain": [
       "' HI WORLD  '"
      ]
     },
     "execution_count": 21,
     "metadata": {},
     "output_type": "execute_result"
    }
   ],
   "source": [
    "A"
   ]
  },
  {
   "cell_type": "code",
   "execution_count": 22,
   "id": "bfb79edb",
   "metadata": {},
   "outputs": [
    {
     "data": {
      "text/plain": [
       "' eI WORLD  '"
      ]
     },
     "execution_count": 22,
     "metadata": {},
     "output_type": "execute_result"
    }
   ],
   "source": [
    "A.replace(\"H\",\"e\")"
   ]
  },
  {
   "cell_type": "markdown",
   "id": "9a7b4435",
   "metadata": {},
   "source": [
    "# SPLIT"
   ]
  },
  {
   "cell_type": "code",
   "execution_count": 23,
   "id": "fcf42bef",
   "metadata": {},
   "outputs": [
    {
     "data": {
      "text/plain": [
       "'SUWON,GILGIT,SEOUL,KARACHI,YEONGJONG'"
      ]
     },
     "execution_count": 23,
     "metadata": {},
     "output_type": "execute_result"
    }
   ],
   "source": [
    "C"
   ]
  },
  {
   "cell_type": "code",
   "execution_count": 24,
   "id": "7c26bb59",
   "metadata": {},
   "outputs": [
    {
     "data": {
      "text/plain": [
       "['SUWON', 'GILGIT', 'SEOUL', 'KARACHI', 'YEONGJONG']"
      ]
     },
     "execution_count": 24,
     "metadata": {},
     "output_type": "execute_result"
    }
   ],
   "source": [
    "C.split(\",\")"
   ]
  },
  {
   "cell_type": "code",
   "execution_count": 25,
   "id": "7d865651",
   "metadata": {},
   "outputs": [
    {
     "data": {
      "text/plain": [
       "' HI WORLD  '"
      ]
     },
     "execution_count": 25,
     "metadata": {},
     "output_type": "execute_result"
    }
   ],
   "source": [
    "A"
   ]
  },
  {
   "cell_type": "code",
   "execution_count": 31,
   "id": "d4d8d914",
   "metadata": {},
   "outputs": [
    {
     "data": {
      "text/plain": [
       "[' HI WORLD  ']"
      ]
     },
     "execution_count": 31,
     "metadata": {},
     "output_type": "execute_result"
    }
   ],
   "source": [
    "A.split(\"+\")"
   ]
  },
  {
   "cell_type": "code",
   "execution_count": 32,
   "id": "e798dd66",
   "metadata": {},
   "outputs": [
    {
     "data": {
      "text/plain": [
       "' HI WORLD  '"
      ]
     },
     "execution_count": 32,
     "metadata": {},
     "output_type": "execute_result"
    }
   ],
   "source": [
    "A"
   ]
  },
  {
   "cell_type": "code",
   "execution_count": 33,
   "id": "ce6b6ba7",
   "metadata": {},
   "outputs": [
    {
     "data": {
      "text/plain": [
       "[' HI WORLD  ']"
      ]
     },
     "execution_count": 33,
     "metadata": {},
     "output_type": "execute_result"
    }
   ],
   "source": [
    "A.split(\"   \")"
   ]
  },
  {
   "cell_type": "code",
   "execution_count": 34,
   "id": "a54e049c",
   "metadata": {},
   "outputs": [
    {
     "data": {
      "text/plain": [
       "'I Love Football...'"
      ]
     },
     "execution_count": 34,
     "metadata": {},
     "output_type": "execute_result"
    }
   ],
   "source": [
    "B"
   ]
  },
  {
   "cell_type": "code",
   "execution_count": 35,
   "id": "526fe27f",
   "metadata": {},
   "outputs": [
    {
     "data": {
      "text/plain": [
       "['I Love Football...']"
      ]
     },
     "execution_count": 35,
     "metadata": {},
     "output_type": "execute_result"
    }
   ],
   "source": [
    "B.split(\"   \")"
   ]
  },
  {
   "cell_type": "code",
   "execution_count": 36,
   "id": "809fde05",
   "metadata": {},
   "outputs": [],
   "source": [
    "A='hi,hello,hi,  ,sos'"
   ]
  },
  {
   "cell_type": "code",
   "execution_count": 38,
   "id": "81503193",
   "metadata": {},
   "outputs": [
    {
     "data": {
      "text/plain": [
       "['hi', 'hello', 'hi', '  ', 'sos']"
      ]
     },
     "execution_count": 38,
     "metadata": {},
     "output_type": "execute_result"
    }
   ],
   "source": [
    "A.split(\",\")"
   ]
  },
  {
   "cell_type": "markdown",
   "id": "b5fc69f3",
   "metadata": {},
   "source": [
    "# 'in' and 'not in' OPERATORS IN STRING"
   ]
  },
  {
   "cell_type": "code",
   "execution_count": 40,
   "id": "b3049d09",
   "metadata": {},
   "outputs": [
    {
     "data": {
      "text/plain": [
       "'hi,hello,hi,  ,sos'"
      ]
     },
     "execution_count": 40,
     "metadata": {},
     "output_type": "execute_result"
    }
   ],
   "source": [
    "A"
   ]
  },
  {
   "cell_type": "code",
   "execution_count": 41,
   "id": "3dc180f3",
   "metadata": {},
   "outputs": [
    {
     "data": {
      "text/plain": [
       "True"
      ]
     },
     "execution_count": 41,
     "metadata": {},
     "output_type": "execute_result"
    }
   ],
   "source": [
    "'hi' in A"
   ]
  },
  {
   "cell_type": "code",
   "execution_count": 42,
   "id": "ff3efea1",
   "metadata": {},
   "outputs": [
    {
     "data": {
      "text/plain": [
       "True"
      ]
     },
     "execution_count": 42,
     "metadata": {},
     "output_type": "execute_result"
    }
   ],
   "source": [
    "'h'in A"
   ]
  },
  {
   "cell_type": "code",
   "execution_count": 43,
   "id": "371ca073",
   "metadata": {},
   "outputs": [
    {
     "data": {
      "text/plain": [
       "True"
      ]
     },
     "execution_count": 43,
     "metadata": {},
     "output_type": "execute_result"
    }
   ],
   "source": [
    "\",\"in A"
   ]
  },
  {
   "cell_type": "code",
   "execution_count": 44,
   "id": "cc4fedfc",
   "metadata": {},
   "outputs": [
    {
     "data": {
      "text/plain": [
       "False"
      ]
     },
     "execution_count": 44,
     "metadata": {},
     "output_type": "execute_result"
    }
   ],
   "source": [
    "'SOS'in A"
   ]
  },
  {
   "cell_type": "code",
   "execution_count": 45,
   "id": "45107d59",
   "metadata": {},
   "outputs": [
    {
     "data": {
      "text/plain": [
       "True"
      ]
     },
     "execution_count": 45,
     "metadata": {},
     "output_type": "execute_result"
    }
   ],
   "source": [
    "'sos'in A"
   ]
  },
  {
   "cell_type": "code",
   "execution_count": 46,
   "id": "5a9e18ee",
   "metadata": {},
   "outputs": [
    {
     "data": {
      "text/plain": [
       "True"
      ]
     },
     "execution_count": 46,
     "metadata": {},
     "output_type": "execute_result"
    }
   ],
   "source": [
    "'SOS'not in A"
   ]
  },
  {
   "cell_type": "code",
   "execution_count": 47,
   "id": "5315f92d",
   "metadata": {},
   "outputs": [
    {
     "data": {
      "text/plain": [
       "True"
      ]
     },
     "execution_count": 47,
     "metadata": {},
     "output_type": "execute_result"
    }
   ],
   "source": [
    "\"S\"not in A"
   ]
  },
  {
   "cell_type": "code",
   "execution_count": 48,
   "id": "4333d204",
   "metadata": {},
   "outputs": [],
   "source": [
    "#LIST\n",
    "A=[1,2,3,4,5]"
   ]
  },
  {
   "cell_type": "code",
   "execution_count": 58,
   "id": "56a6d1ac",
   "metadata": {},
   "outputs": [
    {
     "data": {
      "text/plain": [
       "True"
      ]
     },
     "execution_count": 58,
     "metadata": {},
     "output_type": "execute_result"
    }
   ],
   "source": [
    "2in A"
   ]
  },
  {
   "cell_type": "code",
   "execution_count": 59,
   "id": "6f0b6fcf",
   "metadata": {},
   "outputs": [
    {
     "data": {
      "text/plain": [
       "True"
      ]
     },
     "execution_count": 59,
     "metadata": {},
     "output_type": "execute_result"
    }
   ],
   "source": [
    "3 in A"
   ]
  },
  {
   "cell_type": "code",
   "execution_count": 61,
   "id": "4f809510",
   "metadata": {},
   "outputs": [
    {
     "data": {
      "text/plain": [
       "False"
      ]
     },
     "execution_count": 61,
     "metadata": {},
     "output_type": "execute_result"
    }
   ],
   "source": [
    "9 in A"
   ]
  },
  {
   "cell_type": "markdown",
   "id": "bb45e35a",
   "metadata": {},
   "source": [
    "# USE OF BACKSLASH IN STRINGS"
   ]
  },
  {
   "cell_type": "code",
   "execution_count": 65,
   "id": "bd84c06c",
   "metadata": {},
   "outputs": [
    {
     "ename": "SyntaxError",
     "evalue": "invalid syntax (<ipython-input-65-b38ea3a86b46>, line 1)",
     "output_type": "error",
     "traceback": [
      "\u001b[1;36m  File \u001b[1;32m\"<ipython-input-65-b38ea3a86b46>\"\u001b[1;36m, line \u001b[1;32m1\u001b[0m\n\u001b[1;33m    A='he is a 'good' crickter'\u001b[0m\n\u001b[1;37m                ^\u001b[0m\n\u001b[1;31mSyntaxError\u001b[0m\u001b[1;31m:\u001b[0m invalid syntax\n"
     ]
    }
   ],
   "source": [
    "A='he is a 'good' crickter'"
   ]
  },
  {
   "cell_type": "code",
   "execution_count": 66,
   "id": "4056d775",
   "metadata": {},
   "outputs": [],
   "source": [
    "A='he is a \\'good\\'crickter'"
   ]
  },
  {
   "cell_type": "code",
   "execution_count": 67,
   "id": "7f079150",
   "metadata": {},
   "outputs": [
    {
     "data": {
      "text/plain": [
       "\"he is a 'good'crickter\""
      ]
     },
     "execution_count": 67,
     "metadata": {},
     "output_type": "execute_result"
    }
   ],
   "source": [
    "A"
   ]
  },
  {
   "cell_type": "markdown",
   "id": "6bff408b",
   "metadata": {},
   "source": [
    "# \\t in print statement"
   ]
  },
  {
   "cell_type": "code",
   "execution_count": 71,
   "id": "e8639583",
   "metadata": {},
   "outputs": [],
   "source": [
    "# \\t is used in strings to provide tabs in print statements\n",
    "# \\n is used in strings to provide next line in print statements"
   ]
  },
  {
   "cell_type": "code",
   "execution_count": 83,
   "id": "59912a22",
   "metadata": {},
   "outputs": [],
   "source": [
    "A='hello\\tworld'"
   ]
  },
  {
   "cell_type": "code",
   "execution_count": 69,
   "id": "3c6680de",
   "metadata": {},
   "outputs": [
    {
     "data": {
      "text/plain": [
       "'hello\\tworld'"
      ]
     },
     "execution_count": 69,
     "metadata": {},
     "output_type": "execute_result"
    }
   ],
   "source": [
    "A"
   ]
  },
  {
   "cell_type": "code",
   "execution_count": 70,
   "id": "7a27d094",
   "metadata": {},
   "outputs": [
    {
     "name": "stdout",
     "output_type": "stream",
     "text": [
      "hello\tworld\n"
     ]
    }
   ],
   "source": [
    "print(A)"
   ]
  },
  {
   "cell_type": "code",
   "execution_count": 72,
   "id": "8d5971e8",
   "metadata": {},
   "outputs": [
    {
     "data": {
      "text/plain": [
       "'hello\\tworld'"
      ]
     },
     "execution_count": 72,
     "metadata": {},
     "output_type": "execute_result"
    }
   ],
   "source": [
    "A"
   ]
  },
  {
   "cell_type": "code",
   "execution_count": 73,
   "id": "baef5a2a",
   "metadata": {},
   "outputs": [],
   "source": [
    "A='hello\\ntworld'"
   ]
  },
  {
   "cell_type": "code",
   "execution_count": 74,
   "id": "10bca9b1",
   "metadata": {},
   "outputs": [
    {
     "data": {
      "text/plain": [
       "'hello\\ntworld'"
      ]
     },
     "execution_count": 74,
     "metadata": {},
     "output_type": "execute_result"
    }
   ],
   "source": [
    "A"
   ]
  },
  {
   "cell_type": "code",
   "execution_count": 75,
   "id": "c6449efd",
   "metadata": {},
   "outputs": [
    {
     "name": "stdout",
     "output_type": "stream",
     "text": [
      "hello\n",
      "tworld\n"
     ]
    }
   ],
   "source": [
    "print(A)"
   ]
  },
  {
   "cell_type": "code",
   "execution_count": 80,
   "id": "eed93c0b",
   "metadata": {},
   "outputs": [],
   "source": [
    "A='hello\\nworld'"
   ]
  },
  {
   "cell_type": "code",
   "execution_count": 81,
   "id": "f640ea87",
   "metadata": {},
   "outputs": [
    {
     "data": {
      "text/plain": [
       "'hello\\nworld'"
      ]
     },
     "execution_count": 81,
     "metadata": {},
     "output_type": "execute_result"
    }
   ],
   "source": [
    "A"
   ]
  },
  {
   "cell_type": "code",
   "execution_count": 82,
   "id": "83bffc1a",
   "metadata": {},
   "outputs": [
    {
     "name": "stdout",
     "output_type": "stream",
     "text": [
      "hello\n",
      "world\n"
     ]
    }
   ],
   "source": [
    "print(A)"
   ]
  },
  {
   "cell_type": "code",
   "execution_count": null,
   "id": "8e2fe0b9",
   "metadata": {},
   "outputs": [],
   "source": []
  }
 ],
 "metadata": {
  "kernelspec": {
   "display_name": "Python 3",
   "language": "python",
   "name": "python3"
  },
  "language_info": {
   "codemirror_mode": {
    "name": "ipython",
    "version": 3
   },
   "file_extension": ".py",
   "mimetype": "text/x-python",
   "name": "python",
   "nbconvert_exporter": "python",
   "pygments_lexer": "ipython3",
   "version": "3.8.8"
  }
 },
 "nbformat": 4,
 "nbformat_minor": 5
}
