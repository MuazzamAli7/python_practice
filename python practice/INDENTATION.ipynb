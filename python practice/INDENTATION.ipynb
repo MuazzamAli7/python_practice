{
 "cells": [
  {
   "cell_type": "markdown",
   "id": "b9772a72",
   "metadata": {},
   "source": [
    "# INDENTATION"
   ]
  },
  {
   "cell_type": "code",
   "execution_count": 1,
   "id": "13150e93",
   "metadata": {},
   "outputs": [
    {
     "name": "stdout",
     "output_type": "stream",
     "text": [
      "x is greater than 1\n"
     ]
    }
   ],
   "source": [
    "x=5\n",
    "if (x>1):\n",
    "    print('x is greater than 1')"
   ]
  },
  {
   "cell_type": "code",
   "execution_count": 12,
   "id": "a0c551a5",
   "metadata": {},
   "outputs": [
    {
     "name": "stdout",
     "output_type": "stream",
     "text": [
      "6\n",
      "7\n",
      "8\n",
      "9\n"
     ]
    }
   ],
   "source": [
    "for x in range(0,10):\n",
    "    if (x>5):\n",
    "        print(x)"
   ]
  },
  {
   "cell_type": "code",
   "execution_count": null,
   "id": "5071de7f",
   "metadata": {},
   "outputs": [],
   "source": []
  }
 ],
 "metadata": {
  "kernelspec": {
   "display_name": "Python 3",
   "language": "python",
   "name": "python3"
  },
  "language_info": {
   "codemirror_mode": {
    "name": "ipython",
    "version": 3
   },
   "file_extension": ".py",
   "mimetype": "text/x-python",
   "name": "python",
   "nbconvert_exporter": "python",
   "pygments_lexer": "ipython3",
   "version": "3.8.8"
  }
 },
 "nbformat": 4,
 "nbformat_minor": 5
}
