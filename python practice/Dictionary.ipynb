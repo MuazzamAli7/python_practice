{
 "cells": [
  {
   "cell_type": "code",
   "execution_count": 1,
   "id": "7069a767",
   "metadata": {},
   "outputs": [],
   "source": [
    "#Dictionary is an unordered collection of key and value pairs..where keys and values may be of any data type\n",
    "#A={'sam':72,'Ali':21,'muazzam':23},,where sam is key amd 72 is value"
   ]
  },
  {
   "cell_type": "code",
   "execution_count": 4,
   "id": "be8854e4",
   "metadata": {},
   "outputs": [],
   "source": [
    "student={'sam':72,'khan':85,'muazzam':98,'ali':89}"
   ]
  },
  {
   "cell_type": "code",
   "execution_count": 5,
   "id": "e3efc56c",
   "metadata": {},
   "outputs": [
    {
     "data": {
      "text/plain": [
       "{'sam': 72, 'khan': 85, 'muazzam': 98, 'ali': 89}"
      ]
     },
     "execution_count": 5,
     "metadata": {},
     "output_type": "execute_result"
    }
   ],
   "source": [
    "student"
   ]
  },
  {
   "cell_type": "code",
   "execution_count": 6,
   "id": "02cf18ff",
   "metadata": {},
   "outputs": [
    {
     "name": "stdout",
     "output_type": "stream",
     "text": [
      "{'sam': 72, 'khan': 85, 'muazzam': 98, 'ali': 89}\n"
     ]
    }
   ],
   "source": [
    "print(student)"
   ]
  },
  {
   "cell_type": "code",
   "execution_count": 7,
   "id": "579ead2e",
   "metadata": {},
   "outputs": [
    {
     "data": {
      "text/plain": [
       "dict"
      ]
     },
     "execution_count": 7,
     "metadata": {},
     "output_type": "execute_result"
    }
   ],
   "source": [
    "type(student)"
   ]
  },
  {
   "cell_type": "markdown",
   "id": "a6c005d2",
   "metadata": {},
   "source": [
    "# acessing items in dic"
   ]
  },
  {
   "cell_type": "code",
   "execution_count": 8,
   "id": "29327429",
   "metadata": {},
   "outputs": [
    {
     "data": {
      "text/plain": [
       "72"
      ]
     },
     "execution_count": 8,
     "metadata": {},
     "output_type": "execute_result"
    }
   ],
   "source": [
    "student['sam']"
   ]
  },
  {
   "cell_type": "code",
   "execution_count": 9,
   "id": "89d7727c",
   "metadata": {},
   "outputs": [
    {
     "data": {
      "text/plain": [
       "98"
      ]
     },
     "execution_count": 9,
     "metadata": {},
     "output_type": "execute_result"
    }
   ],
   "source": [
    "student['muazzam']"
   ]
  },
  {
   "cell_type": "code",
   "execution_count": 10,
   "id": "cac2ed0e",
   "metadata": {},
   "outputs": [
    {
     "name": "stdout",
     "output_type": "stream",
     "text": [
      "sam\n",
      "khan\n",
      "muazzam\n",
      "ali\n"
     ]
    }
   ],
   "source": [
    "for i in student:\n",
    "    print(i)"
   ]
  },
  {
   "cell_type": "code",
   "execution_count": 15,
   "id": "42e05b09",
   "metadata": {},
   "outputs": [
    {
     "name": "stdout",
     "output_type": "stream",
     "text": [
      "sam 72\n",
      "khan 85\n",
      "muazzam 98\n",
      "ali 89\n"
     ]
    }
   ],
   "source": [
    "for i in student:\n",
    "    print(i,student[i])"
   ]
  },
  {
   "cell_type": "code",
   "execution_count": 16,
   "id": "57113276",
   "metadata": {},
   "outputs": [
    {
     "name": "stdout",
     "output_type": "stream",
     "text": [
      "72\n",
      "85\n",
      "98\n",
      "89\n"
     ]
    }
   ],
   "source": [
    "for i in student.values():\n",
    "    print(i)"
   ]
  },
  {
   "cell_type": "code",
   "execution_count": 21,
   "id": "a46a929d",
   "metadata": {
    "scrolled": true
   },
   "outputs": [
    {
     "name": "stdout",
     "output_type": "stream",
     "text": [
      "sam 72\n",
      "khan 85\n",
      "muazzam 98\n",
      "ali 89\n"
     ]
    }
   ],
   "source": [
    "for key,values in student.items():\n",
    "    print(key,values)"
   ]
  },
  {
   "cell_type": "code",
   "execution_count": 23,
   "id": "edb67fe0",
   "metadata": {},
   "outputs": [],
   "source": [
    "A={'muazzam':[99,89,97,89,96],'ali':[98,90,87,75,97]}"
   ]
  },
  {
   "cell_type": "code",
   "execution_count": 24,
   "id": "8582eba5",
   "metadata": {},
   "outputs": [
    {
     "data": {
      "text/plain": [
       "{'muazzam': [99, 89, 97, 89, 96], 'ali': [98, 90, 87, 75, 97]}"
      ]
     },
     "execution_count": 24,
     "metadata": {},
     "output_type": "execute_result"
    }
   ],
   "source": [
    "A"
   ]
  },
  {
   "cell_type": "code",
   "execution_count": 25,
   "id": "9a6c5fe1",
   "metadata": {},
   "outputs": [
    {
     "data": {
      "text/plain": [
       "dict"
      ]
     },
     "execution_count": 25,
     "metadata": {},
     "output_type": "execute_result"
    }
   ],
   "source": [
    "type(A)"
   ]
  },
  {
   "cell_type": "code",
   "execution_count": 26,
   "id": "c2c715f7",
   "metadata": {},
   "outputs": [
    {
     "data": {
      "text/plain": [
       "2"
      ]
     },
     "execution_count": 26,
     "metadata": {},
     "output_type": "execute_result"
    }
   ],
   "source": [
    "len(A)"
   ]
  },
  {
   "cell_type": "code",
   "execution_count": 27,
   "id": "c845310d",
   "metadata": {},
   "outputs": [
    {
     "data": {
      "text/plain": [
       "{'muazzam': [99, 89, 97, 89, 96], 'ali': [98, 90, 87, 75, 97]}"
      ]
     },
     "execution_count": 27,
     "metadata": {},
     "output_type": "execute_result"
    }
   ],
   "source": [
    "A"
   ]
  },
  {
   "cell_type": "code",
   "execution_count": 28,
   "id": "6be929f9",
   "metadata": {},
   "outputs": [
    {
     "data": {
      "text/plain": [
       "[99, 89, 97, 89, 96]"
      ]
     },
     "execution_count": 28,
     "metadata": {},
     "output_type": "execute_result"
    }
   ],
   "source": [
    "A['muazzam']"
   ]
  },
  {
   "cell_type": "code",
   "execution_count": 30,
   "id": "34af5129",
   "metadata": {},
   "outputs": [
    {
     "name": "stdout",
     "output_type": "stream",
     "text": [
      "marks 99\n",
      "marks 89\n",
      "marks 97\n",
      "marks 89\n",
      "marks 96\n"
     ]
    }
   ],
   "source": [
    "for i in A['muazzam']:\n",
    "    print('marks',i)"
   ]
  },
  {
   "cell_type": "code",
   "execution_count": 31,
   "id": "0c813f08",
   "metadata": {},
   "outputs": [
    {
     "name": "stdout",
     "output_type": "stream",
     "text": [
      "muazzam [99, 89, 97, 89, 96]\n",
      "ali [98, 90, 87, 75, 97]\n"
     ]
    }
   ],
   "source": [
    "for i in A:\n",
    "    print(i,A[i])"
   ]
  },
  {
   "cell_type": "code",
   "execution_count": 33,
   "id": "4fd4e736",
   "metadata": {},
   "outputs": [
    {
     "name": "stdout",
     "output_type": "stream",
     "text": [
      "muazzam 99\n",
      "muazzam 89\n",
      "muazzam 97\n",
      "muazzam 89\n",
      "muazzam 96\n",
      "ali 98\n",
      "ali 90\n",
      "ali 87\n",
      "ali 75\n",
      "ali 97\n"
     ]
    }
   ],
   "source": [
    "for i in A:\n",
    "    for j in A[i]:\n",
    "        print(i,j)"
   ]
  },
  {
   "cell_type": "markdown",
   "id": "73a1db7d",
   "metadata": {},
   "source": [
    "# Adding items in a dict"
   ]
  },
  {
   "cell_type": "code",
   "execution_count": 34,
   "id": "fee18686",
   "metadata": {},
   "outputs": [],
   "source": [
    "A={'sam':72,'khan':85,'muazzam':98,'ali':89}"
   ]
  },
  {
   "cell_type": "code",
   "execution_count": 35,
   "id": "1d35059b",
   "metadata": {},
   "outputs": [
    {
     "data": {
      "text/plain": [
       "{'sam': 72, 'khan': 85, 'muazzam': 98, 'ali': 89}"
      ]
     },
     "execution_count": 35,
     "metadata": {},
     "output_type": "execute_result"
    }
   ],
   "source": [
    "A"
   ]
  },
  {
   "cell_type": "code",
   "execution_count": 36,
   "id": "e94c6224",
   "metadata": {},
   "outputs": [
    {
     "data": {
      "text/plain": [
       "dict"
      ]
     },
     "execution_count": 36,
     "metadata": {},
     "output_type": "execute_result"
    }
   ],
   "source": [
    "type(A)"
   ]
  },
  {
   "cell_type": "code",
   "execution_count": 37,
   "id": "389a4f13",
   "metadata": {},
   "outputs": [],
   "source": [
    "A['adeeb']=99"
   ]
  },
  {
   "cell_type": "code",
   "execution_count": 38,
   "id": "4ac5e0e0",
   "metadata": {},
   "outputs": [
    {
     "data": {
      "text/plain": [
       "{'sam': 72, 'khan': 85, 'muazzam': 98, 'ali': 89, 'adeeb': 99}"
      ]
     },
     "execution_count": 38,
     "metadata": {},
     "output_type": "execute_result"
    }
   ],
   "source": [
    "A"
   ]
  },
  {
   "cell_type": "code",
   "execution_count": 39,
   "id": "4f0e6ac5",
   "metadata": {},
   "outputs": [],
   "source": [
    "A={'muazzam':[99,89,97,89,96],'ali':[98,90,87,75,97]}"
   ]
  },
  {
   "cell_type": "code",
   "execution_count": 40,
   "id": "fbdf95a8",
   "metadata": {},
   "outputs": [],
   "source": [
    "A['adeeb']=[78,98,86,43,23]"
   ]
  },
  {
   "cell_type": "code",
   "execution_count": 41,
   "id": "6c7f8cd9",
   "metadata": {},
   "outputs": [
    {
     "data": {
      "text/plain": [
       "{'muazzam': [99, 89, 97, 89, 96],\n",
       " 'ali': [98, 90, 87, 75, 97],\n",
       " 'adeeb': [78, 98, 86, 43, 23]}"
      ]
     },
     "execution_count": 41,
     "metadata": {},
     "output_type": "execute_result"
    }
   ],
   "source": [
    "A"
   ]
  },
  {
   "cell_type": "code",
   "execution_count": 42,
   "id": "c2bbf0a5",
   "metadata": {},
   "outputs": [
    {
     "data": {
      "text/plain": [
       "dict"
      ]
     },
     "execution_count": 42,
     "metadata": {},
     "output_type": "execute_result"
    }
   ],
   "source": [
    "type(A)"
   ]
  },
  {
   "cell_type": "markdown",
   "id": "a2fa3676",
   "metadata": {},
   "source": [
    "# DICT METHODS"
   ]
  },
  {
   "cell_type": "code",
   "execution_count": 43,
   "id": "83aff2ca",
   "metadata": {},
   "outputs": [],
   "source": [
    "A={'sam':72,'khan':85,'muazzam':98,'ali':89}"
   ]
  },
  {
   "cell_type": "code",
   "execution_count": 44,
   "id": "2c8cdc12",
   "metadata": {},
   "outputs": [
    {
     "data": {
      "text/plain": [
       "{'sam': 72, 'khan': 85, 'muazzam': 98, 'ali': 89}"
      ]
     },
     "execution_count": 44,
     "metadata": {},
     "output_type": "execute_result"
    }
   ],
   "source": [
    "A"
   ]
  },
  {
   "cell_type": "code",
   "execution_count": 45,
   "id": "6f01fe27",
   "metadata": {},
   "outputs": [
    {
     "data": {
      "text/plain": [
       "4"
      ]
     },
     "execution_count": 45,
     "metadata": {},
     "output_type": "execute_result"
    }
   ],
   "source": [
    "len(A)"
   ]
  },
  {
   "cell_type": "code",
   "execution_count": 46,
   "id": "8223216d",
   "metadata": {},
   "outputs": [],
   "source": [
    "del A['sam']"
   ]
  },
  {
   "cell_type": "code",
   "execution_count": 47,
   "id": "29880868",
   "metadata": {},
   "outputs": [
    {
     "data": {
      "text/plain": [
       "{'khan': 85, 'muazzam': 98, 'ali': 89}"
      ]
     },
     "execution_count": 47,
     "metadata": {},
     "output_type": "execute_result"
    }
   ],
   "source": [
    "A"
   ]
  },
  {
   "cell_type": "code",
   "execution_count": 48,
   "id": "00f877b6",
   "metadata": {},
   "outputs": [],
   "source": [
    "A={'sam':72,'khan':85,'muazzam':98,'ali':89}"
   ]
  },
  {
   "cell_type": "code",
   "execution_count": 49,
   "id": "4030f088",
   "metadata": {},
   "outputs": [
    {
     "data": {
      "text/plain": [
       "98"
      ]
     },
     "execution_count": 49,
     "metadata": {},
     "output_type": "execute_result"
    }
   ],
   "source": [
    "A.get('muazzam')"
   ]
  },
  {
   "cell_type": "code",
   "execution_count": 50,
   "id": "645a5476",
   "metadata": {},
   "outputs": [
    {
     "data": {
      "text/plain": [
       "98"
      ]
     },
     "execution_count": 50,
     "metadata": {},
     "output_type": "execute_result"
    }
   ],
   "source": [
    "A['muazzam']"
   ]
  },
  {
   "cell_type": "code",
   "execution_count": 51,
   "id": "a54fc838",
   "metadata": {},
   "outputs": [],
   "source": [
    "A={'muazzam':[99,89,97,89,96],'ali':[98,90,87,75,97]}"
   ]
  },
  {
   "cell_type": "code",
   "execution_count": 52,
   "id": "50648b7d",
   "metadata": {},
   "outputs": [
    {
     "data": {
      "text/plain": [
       "5"
      ]
     },
     "execution_count": 52,
     "metadata": {},
     "output_type": "execute_result"
    }
   ],
   "source": [
    "len(A['muazzam'])"
   ]
  },
  {
   "cell_type": "code",
   "execution_count": 53,
   "id": "411b626d",
   "metadata": {},
   "outputs": [
    {
     "name": "stdout",
     "output_type": "stream",
     "text": [
      "muazzam\n",
      "ali\n"
     ]
    }
   ],
   "source": [
    "for i in A:\n",
    "    print(i)"
   ]
  },
  {
   "cell_type": "code",
   "execution_count": 54,
   "id": "b796f6fd",
   "metadata": {},
   "outputs": [
    {
     "name": "stdout",
     "output_type": "stream",
     "text": [
      "muazzam 5\n",
      "ali 5\n"
     ]
    }
   ],
   "source": [
    "for i in A:\n",
    "    print(i,len(A[i]))"
   ]
  },
  {
   "cell_type": "code",
   "execution_count": 55,
   "id": "0e0fec60",
   "metadata": {},
   "outputs": [],
   "source": [
    "student={'sam':72,'khan':85,'muazzam':98,'ali':89}"
   ]
  },
  {
   "cell_type": "code",
   "execution_count": 56,
   "id": "9d23f9ce",
   "metadata": {},
   "outputs": [],
   "source": [
    "A=student"
   ]
  },
  {
   "cell_type": "code",
   "execution_count": 57,
   "id": "ea12c10a",
   "metadata": {},
   "outputs": [
    {
     "data": {
      "text/plain": [
       "{'sam': 72, 'khan': 85, 'muazzam': 98, 'ali': 89}"
      ]
     },
     "execution_count": 57,
     "metadata": {},
     "output_type": "execute_result"
    }
   ],
   "source": [
    "A"
   ]
  },
  {
   "cell_type": "code",
   "execution_count": 58,
   "id": "fe94a609",
   "metadata": {},
   "outputs": [
    {
     "data": {
      "text/plain": [
       "72"
      ]
     },
     "execution_count": 58,
     "metadata": {},
     "output_type": "execute_result"
    }
   ],
   "source": [
    "A.pop('sam')"
   ]
  },
  {
   "cell_type": "code",
   "execution_count": 59,
   "id": "cfc1a6b6",
   "metadata": {},
   "outputs": [],
   "source": [
    "del A['ali']"
   ]
  },
  {
   "cell_type": "code",
   "execution_count": 60,
   "id": "43ce08be",
   "metadata": {},
   "outputs": [
    {
     "data": {
      "text/plain": [
       "{'khan': 85, 'muazzam': 98}"
      ]
     },
     "execution_count": 60,
     "metadata": {},
     "output_type": "execute_result"
    }
   ],
   "source": [
    "A"
   ]
  },
  {
   "cell_type": "code",
   "execution_count": 61,
   "id": "2d410c87",
   "metadata": {},
   "outputs": [],
   "source": [
    "del A"
   ]
  },
  {
   "cell_type": "code",
   "execution_count": 62,
   "id": "19e83a0e",
   "metadata": {},
   "outputs": [
    {
     "ename": "NameError",
     "evalue": "name 'A' is not defined",
     "output_type": "error",
     "traceback": [
      "\u001b[1;31m---------------------------------------------------------------------------\u001b[0m",
      "\u001b[1;31mNameError\u001b[0m                                 Traceback (most recent call last)",
      "\u001b[1;32m<ipython-input-62-7d157d7c000a>\u001b[0m in \u001b[0;36m<module>\u001b[1;34m\u001b[0m\n\u001b[1;32m----> 1\u001b[1;33m \u001b[0mA\u001b[0m\u001b[1;33m\u001b[0m\u001b[1;33m\u001b[0m\u001b[0m\n\u001b[0m",
      "\u001b[1;31mNameError\u001b[0m: name 'A' is not defined"
     ]
    }
   ],
   "source": [
    "A"
   ]
  },
  {
   "cell_type": "code",
   "execution_count": null,
   "id": "6cfb4ada",
   "metadata": {},
   "outputs": [],
   "source": []
  }
 ],
 "metadata": {
  "kernelspec": {
   "display_name": "Python 3",
   "language": "python",
   "name": "python3"
  },
  "language_info": {
   "codemirror_mode": {
    "name": "ipython",
    "version": 3
   },
   "file_extension": ".py",
   "mimetype": "text/x-python",
   "name": "python",
   "nbconvert_exporter": "python",
   "pygments_lexer": "ipython3",
   "version": "3.8.8"
  }
 },
 "nbformat": 4,
 "nbformat_minor": 5
}
