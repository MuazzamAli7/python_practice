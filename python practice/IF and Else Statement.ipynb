{
 "cells": [
  {
   "cell_type": "markdown",
   "id": "e479e9da",
   "metadata": {},
   "source": [
    "# if,elif and else STATEMENTS"
   ]
  },
  {
   "cell_type": "code",
   "execution_count": 10,
   "id": "6a01d558",
   "metadata": {},
   "outputs": [],
   "source": [
    "x=12\n",
    "y=14"
   ]
  },
  {
   "cell_type": "code",
   "execution_count": 11,
   "id": "5f2fb4ae",
   "metadata": {},
   "outputs": [
    {
     "name": "stdout",
     "output_type": "stream",
     "text": [
      "x is greter than equal to 12\n"
     ]
    }
   ],
   "source": [
    "if(x>=12):\n",
    "    print('x is greter than equal to 12')\n",
    "else:\n",
    "    print('x is less than 12.')"
   ]
  },
  {
   "cell_type": "code",
   "execution_count": 12,
   "id": "68de04eb",
   "metadata": {},
   "outputs": [
    {
     "name": "stdout",
     "output_type": "stream",
     "text": [
      "condition satisfy\n"
     ]
    }
   ],
   "source": [
    "if(x>14):\n",
    "    print('x is greater than 14.')\n",
    "elif(x>5)|(x==5):\n",
    "    print(\"condition satisfy\")\n",
    "else:\n",
    "    print('do it again.')"
   ]
  },
  {
   "cell_type": "code",
   "execution_count": 14,
   "id": "251093b6",
   "metadata": {},
   "outputs": [
    {
     "name": "stdout",
     "output_type": "stream",
     "text": [
      "excellent\n"
     ]
    }
   ],
   "source": [
    "if(x+y==12):\n",
    "    print('good')\n",
    "elif(x-y==13)&(x!=12):\n",
    "    print('moderate')\n",
    "else:\n",
    "    print('excellent')"
   ]
  },
  {
   "cell_type": "code",
   "execution_count": 1,
   "id": "40ee6d18",
   "metadata": {},
   "outputs": [],
   "source": [
    "# if a number is divided by 2. it is even\n",
    "# if a number is divided by 5 or 7,it can be divided\n",
    "# if a number is not divided by 2,5 or 7,it cannot be divided"
   ]
  },
  {
   "cell_type": "code",
   "execution_count": 6,
   "id": "91ca6a66",
   "metadata": {},
   "outputs": [],
   "source": [
    "x=12"
   ]
  },
  {
   "cell_type": "code",
   "execution_count": 12,
   "id": "031b6c2e",
   "metadata": {},
   "outputs": [
    {
     "name": "stdout",
     "output_type": "stream",
     "text": [
      "x cannot be divided\n"
     ]
    }
   ],
   "source": [
    "x=13\n",
    "if(x%2==0):\n",
    "    print(\"x is even\")\n",
    "elif((x%5==0)or(x%7==0)):\n",
    "    print(\"x can be divided\")\n",
    "else:\n",
    "    print(\"x cannot be divided\")"
   ]
  },
  {
   "cell_type": "code",
   "execution_count": 13,
   "id": "0093c31e",
   "metadata": {},
   "outputs": [],
   "source": [
    "x=13"
   ]
  },
  {
   "cell_type": "code",
   "execution_count": 14,
   "id": "a93c36db",
   "metadata": {},
   "outputs": [],
   "source": []
  }
 ],
 "metadata": {
  "kernelspec": {
   "display_name": "Python 3",
   "language": "python",
   "name": "python3"
  },
  "language_info": {
   "codemirror_mode": {
    "name": "ipython",
    "version": 3
   },
   "file_extension": ".py",
   "mimetype": "text/x-python",
   "name": "python",
   "nbconvert_exporter": "python",
   "pygments_lexer": "ipython3",
   "version": "3.8.8"
  }
 },
 "nbformat": 4,
 "nbformat_minor": 5
}
