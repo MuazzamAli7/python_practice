{
 "cells": [
  {
   "cell_type": "code",
   "execution_count": 1,
   "id": "59d485e8",
   "metadata": {},
   "outputs": [],
   "source": [
    "#TUPLE IS A  COLLECTION OF ORDERED DATA ITEMS WHICH CAN BE OF DIFFERENT DATA TYPES\n",
    "#TUPLES AREIMMUTABLE I-E NOT CHANGEABLE UNLIKE LISTS\n",
    "#DEFINED BY USING PARANTHESIS ..()"
   ]
  },
  {
   "cell_type": "code",
   "execution_count": 2,
   "id": "dbcbb353",
   "metadata": {},
   "outputs": [],
   "source": [
    "A=(1,2,3,\"HELLO\",True,\"sam\")"
   ]
  },
  {
   "cell_type": "code",
   "execution_count": 3,
   "id": "e64571aa",
   "metadata": {},
   "outputs": [
    {
     "data": {
      "text/plain": [
       "(1, 2, 3, 'HELLO', True, 'sam')"
      ]
     },
     "execution_count": 3,
     "metadata": {},
     "output_type": "execute_result"
    }
   ],
   "source": [
    "A"
   ]
  },
  {
   "cell_type": "markdown",
   "id": "2e496dc8",
   "metadata": {},
   "source": [
    "# list to tuple"
   ]
  },
  {
   "cell_type": "code",
   "execution_count": 8,
   "id": "74a1fb21",
   "metadata": {},
   "outputs": [],
   "source": [
    "B=[1,2,3,4,\"hi\"]"
   ]
  },
  {
   "cell_type": "code",
   "execution_count": 9,
   "id": "baa3404d",
   "metadata": {},
   "outputs": [
    {
     "data": {
      "text/plain": [
       "list"
      ]
     },
     "execution_count": 9,
     "metadata": {},
     "output_type": "execute_result"
    }
   ],
   "source": [
    "type(B)"
   ]
  },
  {
   "cell_type": "code",
   "execution_count": 10,
   "id": "391920b7",
   "metadata": {},
   "outputs": [
    {
     "data": {
      "text/plain": [
       "(1, 2, 3, 4, 'hi')"
      ]
     },
     "execution_count": 10,
     "metadata": {},
     "output_type": "execute_result"
    }
   ],
   "source": [
    "tuple(B)"
   ]
  },
  {
   "cell_type": "code",
   "execution_count": 11,
   "id": "811233f1",
   "metadata": {},
   "outputs": [
    {
     "data": {
      "text/plain": [
       "list"
      ]
     },
     "execution_count": 11,
     "metadata": {},
     "output_type": "execute_result"
    }
   ],
   "source": [
    "type(B)"
   ]
  },
  {
   "cell_type": "code",
   "execution_count": 12,
   "id": "72be1c43",
   "metadata": {},
   "outputs": [],
   "source": [
    "C=tuple(B)"
   ]
  },
  {
   "cell_type": "code",
   "execution_count": 13,
   "id": "c46a315f",
   "metadata": {},
   "outputs": [
    {
     "data": {
      "text/plain": [
       "(1, 2, 3, 4, 'hi')"
      ]
     },
     "execution_count": 13,
     "metadata": {},
     "output_type": "execute_result"
    }
   ],
   "source": [
    "C"
   ]
  },
  {
   "cell_type": "code",
   "execution_count": 14,
   "id": "588d1e75",
   "metadata": {},
   "outputs": [
    {
     "data": {
      "text/plain": [
       "tuple"
      ]
     },
     "execution_count": 14,
     "metadata": {},
     "output_type": "execute_result"
    }
   ],
   "source": [
    "type(C)"
   ]
  },
  {
   "cell_type": "code",
   "execution_count": 18,
   "id": "ec20d448",
   "metadata": {},
   "outputs": [
    {
     "data": {
      "text/plain": [
       "(1, 2, 3, 4, 'hi')"
      ]
     },
     "execution_count": 18,
     "metadata": {},
     "output_type": "execute_result"
    }
   ],
   "source": [
    "C\n",
    "    "
   ]
  },
  {
   "cell_type": "code",
   "execution_count": 19,
   "id": "91c55303",
   "metadata": {},
   "outputs": [
    {
     "name": "stdout",
     "output_type": "stream",
     "text": [
      "1\n",
      "2\n",
      "3\n",
      "4\n",
      "hi\n"
     ]
    }
   ],
   "source": [
    "for i in C:\n",
    "    print(i)"
   ]
  },
  {
   "cell_type": "markdown",
   "id": "37c1ec1a",
   "metadata": {},
   "source": [
    "# tuple indexing"
   ]
  },
  {
   "cell_type": "code",
   "execution_count": 20,
   "id": "ccb78d45",
   "metadata": {},
   "outputs": [],
   "source": [
    "#elements in a tuple starts with a 0th index\n"
   ]
  },
  {
   "cell_type": "code",
   "execution_count": 21,
   "id": "4af0baf5",
   "metadata": {},
   "outputs": [],
   "source": [
    "A=(1,2,3,4,\"sam\",\"muazzam\",'sameer')"
   ]
  },
  {
   "cell_type": "code",
   "execution_count": 22,
   "id": "3851df38",
   "metadata": {},
   "outputs": [
    {
     "data": {
      "text/plain": [
       "1"
      ]
     },
     "execution_count": 22,
     "metadata": {},
     "output_type": "execute_result"
    }
   ],
   "source": [
    "A[0]"
   ]
  },
  {
   "cell_type": "code",
   "execution_count": 23,
   "id": "e3cf31bb",
   "metadata": {},
   "outputs": [
    {
     "data": {
      "text/plain": [
       "2"
      ]
     },
     "execution_count": 23,
     "metadata": {},
     "output_type": "execute_result"
    }
   ],
   "source": [
    "A[1]"
   ]
  },
  {
   "cell_type": "code",
   "execution_count": 24,
   "id": "fb753bb6",
   "metadata": {},
   "outputs": [
    {
     "data": {
      "text/plain": [
       "4"
      ]
     },
     "execution_count": 24,
     "metadata": {},
     "output_type": "execute_result"
    }
   ],
   "source": [
    "A[3]"
   ]
  },
  {
   "cell_type": "code",
   "execution_count": 25,
   "id": "8a469240",
   "metadata": {},
   "outputs": [
    {
     "data": {
      "text/plain": [
       "'sam'"
      ]
     },
     "execution_count": 25,
     "metadata": {},
     "output_type": "execute_result"
    }
   ],
   "source": [
    "A[4]"
   ]
  },
  {
   "cell_type": "code",
   "execution_count": 26,
   "id": "22b9cecd",
   "metadata": {},
   "outputs": [
    {
     "data": {
      "text/plain": [
       "'muazzam'"
      ]
     },
     "execution_count": 26,
     "metadata": {},
     "output_type": "execute_result"
    }
   ],
   "source": [
    "A[5]"
   ]
  },
  {
   "cell_type": "code",
   "execution_count": 27,
   "id": "eb6191e7",
   "metadata": {},
   "outputs": [
    {
     "data": {
      "text/plain": [
       "'sameer'"
      ]
     },
     "execution_count": 27,
     "metadata": {},
     "output_type": "execute_result"
    }
   ],
   "source": [
    "A[6]"
   ]
  },
  {
   "cell_type": "code",
   "execution_count": 28,
   "id": "16d59a6d",
   "metadata": {},
   "outputs": [
    {
     "data": {
      "text/plain": [
       "'sameer'"
      ]
     },
     "execution_count": 28,
     "metadata": {},
     "output_type": "execute_result"
    }
   ],
   "source": [
    "A[-1]"
   ]
  },
  {
   "cell_type": "code",
   "execution_count": 29,
   "id": "5520c25c",
   "metadata": {},
   "outputs": [
    {
     "data": {
      "text/plain": [
       "'muazzam'"
      ]
     },
     "execution_count": 29,
     "metadata": {},
     "output_type": "execute_result"
    }
   ],
   "source": [
    "A[-2]"
   ]
  },
  {
   "cell_type": "code",
   "execution_count": 30,
   "id": "0369a347",
   "metadata": {},
   "outputs": [
    {
     "data": {
      "text/plain": [
       "7"
      ]
     },
     "execution_count": 30,
     "metadata": {},
     "output_type": "execute_result"
    }
   ],
   "source": [
    "len(A)"
   ]
  },
  {
   "cell_type": "code",
   "execution_count": 31,
   "id": "75407012",
   "metadata": {},
   "outputs": [
    {
     "ename": "IndexError",
     "evalue": "tuple index out of range",
     "output_type": "error",
     "traceback": [
      "\u001b[1;31m---------------------------------------------------------------------------\u001b[0m",
      "\u001b[1;31mIndexError\u001b[0m                                Traceback (most recent call last)",
      "\u001b[1;32m<ipython-input-31-00ed454399b8>\u001b[0m in \u001b[0;36m<module>\u001b[1;34m\u001b[0m\n\u001b[1;32m----> 1\u001b[1;33m \u001b[0mA\u001b[0m\u001b[1;33m[\u001b[0m\u001b[0mlen\u001b[0m\u001b[1;33m(\u001b[0m\u001b[0mA\u001b[0m\u001b[1;33m)\u001b[0m\u001b[1;33m]\u001b[0m\u001b[1;33m\u001b[0m\u001b[1;33m\u001b[0m\u001b[0m\n\u001b[0m",
      "\u001b[1;31mIndexError\u001b[0m: tuple index out of range"
     ]
    }
   ],
   "source": [
    "A[len(A)]"
   ]
  },
  {
   "cell_type": "code",
   "execution_count": 32,
   "id": "f5bf47f7",
   "metadata": {},
   "outputs": [
    {
     "data": {
      "text/plain": [
       "'sameer'"
      ]
     },
     "execution_count": 32,
     "metadata": {},
     "output_type": "execute_result"
    }
   ],
   "source": [
    "A[len(A)-1]"
   ]
  },
  {
   "cell_type": "markdown",
   "id": "d9726cf0",
   "metadata": {},
   "source": [
    "# TUPLE SLICING"
   ]
  },
  {
   "cell_type": "code",
   "execution_count": 33,
   "id": "ef9f8b9c",
   "metadata": {},
   "outputs": [],
   "source": [
    "A=(1,2,3,4,'sam','muazzam',\"khan\")"
   ]
  },
  {
   "cell_type": "code",
   "execution_count": 34,
   "id": "471cfda7",
   "metadata": {},
   "outputs": [
    {
     "data": {
      "text/plain": [
       "(1, 2, 3, 4, 'sam', 'muazzam')"
      ]
     },
     "execution_count": 34,
     "metadata": {},
     "output_type": "execute_result"
    }
   ],
   "source": [
    "A[0:-1]"
   ]
  },
  {
   "cell_type": "code",
   "execution_count": 35,
   "id": "f3fefbb9",
   "metadata": {},
   "outputs": [
    {
     "data": {
      "text/plain": [
       "(1, 2, 3, 4, 'sam', 'muazzam', 'khan')"
      ]
     },
     "execution_count": 35,
     "metadata": {},
     "output_type": "execute_result"
    }
   ],
   "source": [
    "A[:]"
   ]
  },
  {
   "cell_type": "code",
   "execution_count": 36,
   "id": "ba42d4bf",
   "metadata": {},
   "outputs": [
    {
     "data": {
      "text/plain": [
       "(1, 2, 3, 4, 'sam', 'muazzam', 'khan')"
      ]
     },
     "execution_count": 36,
     "metadata": {},
     "output_type": "execute_result"
    }
   ],
   "source": [
    "A[0:len(A)]"
   ]
  },
  {
   "cell_type": "code",
   "execution_count": 37,
   "id": "ef5a4baf",
   "metadata": {},
   "outputs": [
    {
     "data": {
      "text/plain": [
       "(1, 2, 3, 4, 'sam')"
      ]
     },
     "execution_count": 37,
     "metadata": {},
     "output_type": "execute_result"
    }
   ],
   "source": [
    "A[0:-2]"
   ]
  },
  {
   "cell_type": "code",
   "execution_count": 38,
   "id": "b28f5db1",
   "metadata": {},
   "outputs": [
    {
     "data": {
      "text/plain": [
       "(1, 2, 3)"
      ]
     },
     "execution_count": 38,
     "metadata": {},
     "output_type": "execute_result"
    }
   ],
   "source": [
    "A[0:3]"
   ]
  },
  {
   "cell_type": "code",
   "execution_count": 39,
   "id": "0d6a0a0e",
   "metadata": {},
   "outputs": [
    {
     "data": {
      "text/plain": [
       "(2, 3)"
      ]
     },
     "execution_count": 39,
     "metadata": {},
     "output_type": "execute_result"
    }
   ],
   "source": [
    "A[1:3]"
   ]
  },
  {
   "cell_type": "markdown",
   "id": "9374b6d4",
   "metadata": {},
   "source": [
    "# SKIPPING ELEMENTS WHILE SLICING"
   ]
  },
  {
   "cell_type": "code",
   "execution_count": 40,
   "id": "6ad4e140",
   "metadata": {},
   "outputs": [
    {
     "data": {
      "text/plain": [
       "(1, 2, 3, 4, 'sam', 'muazzam', 'khan')"
      ]
     },
     "execution_count": 40,
     "metadata": {},
     "output_type": "execute_result"
    }
   ],
   "source": [
    "A"
   ]
  },
  {
   "cell_type": "code",
   "execution_count": 41,
   "id": "069020f0",
   "metadata": {},
   "outputs": [
    {
     "data": {
      "text/plain": [
       "(1, 2, 3, 4, 'sam', 'muazzam', 'khan')"
      ]
     },
     "execution_count": 41,
     "metadata": {},
     "output_type": "execute_result"
    }
   ],
   "source": [
    "A[0:7]"
   ]
  },
  {
   "cell_type": "code",
   "execution_count": 42,
   "id": "b084d5e9",
   "metadata": {},
   "outputs": [
    {
     "data": {
      "text/plain": [
       "(1, 2, 3, 4, 'sam', 'muazzam', 'khan')"
      ]
     },
     "execution_count": 42,
     "metadata": {},
     "output_type": "execute_result"
    }
   ],
   "source": [
    "A[0:7:1]"
   ]
  },
  {
   "cell_type": "code",
   "execution_count": 43,
   "id": "180afc47",
   "metadata": {},
   "outputs": [
    {
     "data": {
      "text/plain": [
       "(1, 3, 'sam', 'khan')"
      ]
     },
     "execution_count": 43,
     "metadata": {},
     "output_type": "execute_result"
    }
   ],
   "source": [
    "A[0:7:2]"
   ]
  },
  {
   "cell_type": "markdown",
   "id": "71d51c47",
   "metadata": {},
   "source": [
    "# REVERSING"
   ]
  },
  {
   "cell_type": "code",
   "execution_count": 44,
   "id": "bb7eb0f7",
   "metadata": {},
   "outputs": [
    {
     "data": {
      "text/plain": [
       "(1, 2, 3, 4, 'sam', 'muazzam', 'khan')"
      ]
     },
     "execution_count": 44,
     "metadata": {},
     "output_type": "execute_result"
    }
   ],
   "source": [
    "A"
   ]
  },
  {
   "cell_type": "code",
   "execution_count": 47,
   "id": "966a2728",
   "metadata": {},
   "outputs": [
    {
     "data": {
      "text/plain": [
       "()"
      ]
     },
     "execution_count": 47,
     "metadata": {},
     "output_type": "execute_result"
    }
   ],
   "source": [
    "A[-1:0]"
   ]
  },
  {
   "cell_type": "code",
   "execution_count": 48,
   "id": "fa781824",
   "metadata": {},
   "outputs": [
    {
     "data": {
      "text/plain": [
       "('khan', 'muazzam', 'sam', 4, 3, 2)"
      ]
     },
     "execution_count": 48,
     "metadata": {},
     "output_type": "execute_result"
    }
   ],
   "source": [
    "A[-1:0:-1]"
   ]
  },
  {
   "cell_type": "code",
   "execution_count": 49,
   "id": "d1e84236",
   "metadata": {},
   "outputs": [
    {
     "data": {
      "text/plain": [
       "('khan', 'muazzam', 'sam', 4, 3, 2, 1)"
      ]
     },
     "execution_count": 49,
     "metadata": {},
     "output_type": "execute_result"
    }
   ],
   "source": [
    "A[-1::-1]"
   ]
  },
  {
   "cell_type": "code",
   "execution_count": 50,
   "id": "e78e92e1",
   "metadata": {},
   "outputs": [
    {
     "data": {
      "text/plain": [
       "('khan', 'sam', 3, 1)"
      ]
     },
     "execution_count": 50,
     "metadata": {},
     "output_type": "execute_result"
    }
   ],
   "source": [
    "A[-1::-2]"
   ]
  },
  {
   "cell_type": "code",
   "execution_count": null,
   "id": "2e0eb79f",
   "metadata": {},
   "outputs": [],
   "source": []
  }
 ],
 "metadata": {
  "kernelspec": {
   "display_name": "Python 3",
   "language": "python",
   "name": "python3"
  },
  "language_info": {
   "codemirror_mode": {
    "name": "ipython",
    "version": 3
   },
   "file_extension": ".py",
   "mimetype": "text/x-python",
   "name": "python",
   "nbconvert_exporter": "python",
   "pygments_lexer": "ipython3",
   "version": "3.8.8"
  }
 },
 "nbformat": 4,
 "nbformat_minor": 5
}
