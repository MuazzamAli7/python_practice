{
 "cells": [
  {
   "cell_type": "markdown",
   "id": "729e1ac2",
   "metadata": {},
   "source": [
    "# DEFINING STRINGS"
   ]
  },
  {
   "cell_type": "code",
   "execution_count": 1,
   "id": "ac895678",
   "metadata": {},
   "outputs": [],
   "source": [
    "#STRING CAN BE DEEFINED BY USING '',\"\",'\"\"'"
   ]
  },
  {
   "cell_type": "code",
   "execution_count": 2,
   "id": "c34005b4",
   "metadata": {},
   "outputs": [],
   "source": [
    "A='HELLO WORLD'"
   ]
  },
  {
   "cell_type": "code",
   "execution_count": 3,
   "id": "c0b7672f",
   "metadata": {},
   "outputs": [
    {
     "data": {
      "text/plain": [
       "'HELLO WORLD'"
      ]
     },
     "execution_count": 3,
     "metadata": {},
     "output_type": "execute_result"
    }
   ],
   "source": [
    "A"
   ]
  },
  {
   "cell_type": "code",
   "execution_count": 6,
   "id": "08ceadb7",
   "metadata": {},
   "outputs": [],
   "source": [
    "A=\"HELLO DEAR\""
   ]
  },
  {
   "cell_type": "code",
   "execution_count": 7,
   "id": "d04e03ae",
   "metadata": {},
   "outputs": [
    {
     "data": {
      "text/plain": [
       "'HELLO DEAR'"
      ]
     },
     "execution_count": 7,
     "metadata": {},
     "output_type": "execute_result"
    }
   ],
   "source": [
    "A"
   ]
  },
  {
   "cell_type": "code",
   "execution_count": 8,
   "id": "9c2ea7b1",
   "metadata": {},
   "outputs": [
    {
     "data": {
      "text/plain": [
       "'HELLO DEAR'"
      ]
     },
     "execution_count": 8,
     "metadata": {},
     "output_type": "execute_result"
    }
   ],
   "source": [
    "A"
   ]
  },
  {
   "cell_type": "code",
   "execution_count": 9,
   "id": "b700baaf",
   "metadata": {},
   "outputs": [],
   "source": [
    "A='\"HEY YOU!!\"'"
   ]
  },
  {
   "cell_type": "code",
   "execution_count": 10,
   "id": "bdb0d79a",
   "metadata": {},
   "outputs": [
    {
     "data": {
      "text/plain": [
       "'\"HEY YOU!!\"'"
      ]
     },
     "execution_count": 10,
     "metadata": {},
     "output_type": "execute_result"
    }
   ],
   "source": [
    "A"
   ]
  },
  {
   "cell_type": "markdown",
   "id": "4acdd562",
   "metadata": {},
   "source": [
    "# INDEXING STRING,SLICING AND SKIPPING ELEMENTS WHILE SLICING"
   ]
  },
  {
   "cell_type": "code",
   "execution_count": 11,
   "id": "260b5a5a",
   "metadata": {},
   "outputs": [],
   "source": [
    "A='HELLO ALL MY FRIENDS'"
   ]
  },
  {
   "cell_type": "code",
   "execution_count": 12,
   "id": "68225983",
   "metadata": {},
   "outputs": [
    {
     "data": {
      "text/plain": [
       "'H'"
      ]
     },
     "execution_count": 12,
     "metadata": {},
     "output_type": "execute_result"
    }
   ],
   "source": [
    "A[0]"
   ]
  },
  {
   "cell_type": "code",
   "execution_count": 14,
   "id": "a22ffae7",
   "metadata": {},
   "outputs": [
    {
     "data": {
      "text/plain": [
       "'S'"
      ]
     },
     "execution_count": 14,
     "metadata": {},
     "output_type": "execute_result"
    }
   ],
   "source": [
    "A[-1]"
   ]
  },
  {
   "cell_type": "code",
   "execution_count": 15,
   "id": "d140d89c",
   "metadata": {},
   "outputs": [
    {
     "data": {
      "text/plain": [
       "'HELLO ALL MY FRIENDS'"
      ]
     },
     "execution_count": 15,
     "metadata": {},
     "output_type": "execute_result"
    }
   ],
   "source": [
    "#SLICING\n",
    "A='HELLO ALL MY FRIENDS'\n",
    "A[:]"
   ]
  },
  {
   "cell_type": "code",
   "execution_count": 16,
   "id": "d410d2a5",
   "metadata": {},
   "outputs": [
    {
     "data": {
      "text/plain": [
       "'HELLO ALL MY FRIENDS'"
      ]
     },
     "execution_count": 16,
     "metadata": {},
     "output_type": "execute_result"
    }
   ],
   "source": [
    "A[0:]"
   ]
  },
  {
   "cell_type": "code",
   "execution_count": 17,
   "id": "f0c83d61",
   "metadata": {},
   "outputs": [
    {
     "data": {
      "text/plain": [
       "'SDNEIRF YM LLA OLLEH'"
      ]
     },
     "execution_count": 17,
     "metadata": {},
     "output_type": "execute_result"
    }
   ],
   "source": [
    "A[-1::-1]"
   ]
  },
  {
   "cell_type": "code",
   "execution_count": 18,
   "id": "c4b19164",
   "metadata": {},
   "outputs": [],
   "source": [
    "A='HELLO ALL MY FRIENDS'"
   ]
  },
  {
   "cell_type": "code",
   "execution_count": 19,
   "id": "ae289d52",
   "metadata": {},
   "outputs": [
    {
     "data": {
      "text/plain": [
       "'HELLO ALL MY FRIENDS'"
      ]
     },
     "execution_count": 19,
     "metadata": {},
     "output_type": "execute_result"
    }
   ],
   "source": [
    "A[0::1]"
   ]
  },
  {
   "cell_type": "code",
   "execution_count": 20,
   "id": "5d718025",
   "metadata": {},
   "outputs": [
    {
     "data": {
      "text/plain": [
       "'HLOALM RED'"
      ]
     },
     "execution_count": 20,
     "metadata": {},
     "output_type": "execute_result"
    }
   ],
   "source": [
    "A[0:-1:2]"
   ]
  },
  {
   "cell_type": "code",
   "execution_count": 21,
   "id": "e30794d5",
   "metadata": {},
   "outputs": [],
   "source": [
    "A='HELLO ALL MY FRIENDS'"
   ]
  },
  {
   "cell_type": "code",
   "execution_count": 22,
   "id": "2c8ff1b9",
   "metadata": {},
   "outputs": [
    {
     "data": {
      "text/plain": [
       "'HELLO ALL MY FRIENDS'"
      ]
     },
     "execution_count": 22,
     "metadata": {},
     "output_type": "execute_result"
    }
   ],
   "source": [
    "A[::]"
   ]
  },
  {
   "cell_type": "code",
   "execution_count": 23,
   "id": "abf0f2e9",
   "metadata": {},
   "outputs": [
    {
     "data": {
      "text/plain": [
       "'HELLO ALL MY FRIENDS'"
      ]
     },
     "execution_count": 23,
     "metadata": {},
     "output_type": "execute_result"
    }
   ],
   "source": [
    "A[:]"
   ]
  },
  {
   "cell_type": "code",
   "execution_count": null,
   "id": "ec97bba0",
   "metadata": {},
   "outputs": [],
   "source": []
  }
 ],
 "metadata": {
  "kernelspec": {
   "display_name": "Python 3",
   "language": "python",
   "name": "python3"
  },
  "language_info": {
   "codemirror_mode": {
    "name": "ipython",
    "version": 3
   },
   "file_extension": ".py",
   "mimetype": "text/x-python",
   "name": "python",
   "nbconvert_exporter": "python",
   "pygments_lexer": "ipython3",
   "version": "3.8.8"
  }
 },
 "nbformat": 4,
 "nbformat_minor": 5
}
