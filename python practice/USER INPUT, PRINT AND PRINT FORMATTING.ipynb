{
 "cells": [
  {
   "cell_type": "markdown",
   "id": "d14d562b",
   "metadata": {},
   "source": [
    "# USER INPUT"
   ]
  },
  {
   "cell_type": "code",
   "execution_count": 1,
   "id": "ff301e04",
   "metadata": {},
   "outputs": [
    {
     "name": "stdout",
     "output_type": "stream",
     "text": [
      "10\n"
     ]
    },
    {
     "data": {
      "text/plain": [
       "'10'"
      ]
     },
     "execution_count": 1,
     "metadata": {},
     "output_type": "execute_result"
    }
   ],
   "source": [
    "input()"
   ]
  },
  {
   "cell_type": "code",
   "execution_count": 3,
   "id": "372a3892",
   "metadata": {},
   "outputs": [
    {
     "name": "stdout",
     "output_type": "stream",
     "text": [
      "enter your age:13\n"
     ]
    },
    {
     "data": {
      "text/plain": [
       "'13'"
      ]
     },
     "execution_count": 3,
     "metadata": {},
     "output_type": "execute_result"
    }
   ],
   "source": [
    "input('enter your age:')"
   ]
  },
  {
   "cell_type": "code",
   "execution_count": 5,
   "id": "175959e4",
   "metadata": {},
   "outputs": [
    {
     "name": "stdout",
     "output_type": "stream",
     "text": [
      "enter your age:12\n"
     ]
    },
    {
     "data": {
      "text/plain": [
       "12"
      ]
     },
     "execution_count": 5,
     "metadata": {},
     "output_type": "execute_result"
    }
   ],
   "source": [
    "int(input('enter your age:'))"
   ]
  },
  {
   "cell_type": "code",
   "execution_count": 6,
   "id": "4fd5dae9",
   "metadata": {},
   "outputs": [
    {
     "name": "stdout",
     "output_type": "stream",
     "text": [
      "12\n"
     ]
    }
   ],
   "source": [
    "x=input()"
   ]
  },
  {
   "cell_type": "code",
   "execution_count": 7,
   "id": "5092edb1",
   "metadata": {},
   "outputs": [
    {
     "name": "stdout",
     "output_type": "stream",
     "text": [
      "12\n"
     ]
    }
   ],
   "source": [
    "print(x)"
   ]
  },
  {
   "cell_type": "code",
   "execution_count": 15,
   "id": "ba2e3e05",
   "metadata": {},
   "outputs": [
    {
     "name": "stdout",
     "output_type": "stream",
     "text": [
      "x\n"
     ]
    }
   ],
   "source": [
    "print('x')"
   ]
  },
  {
   "cell_type": "code",
   "execution_count": 16,
   "id": "b92ce290",
   "metadata": {},
   "outputs": [
    {
     "name": "stdout",
     "output_type": "stream",
     "text": [
      "enter your age:12\n"
     ]
    }
   ],
   "source": [
    "x=input('enter your age:')"
   ]
  },
  {
   "cell_type": "code",
   "execution_count": 17,
   "id": "69a6c98e",
   "metadata": {},
   "outputs": [
    {
     "name": "stdout",
     "output_type": "stream",
     "text": [
      "my age is 12\n"
     ]
    }
   ],
   "source": [
    "print('my age is',x)"
   ]
  },
  {
   "cell_type": "markdown",
   "id": "4275332e",
   "metadata": {},
   "source": [
    "# formatting print statement"
   ]
  },
  {
   "cell_type": "code",
   "execution_count": 21,
   "id": "d093ec5c",
   "metadata": {},
   "outputs": [
    {
     "name": "stdout",
     "output_type": "stream",
     "text": [
      "sam:enter your age:15\n"
     ]
    }
   ],
   "source": [
    "x=int(input('sam:enter your age:'))"
   ]
  },
  {
   "cell_type": "code",
   "execution_count": 22,
   "id": "a8795236",
   "metadata": {},
   "outputs": [
    {
     "data": {
      "text/plain": [
       "15"
      ]
     },
     "execution_count": 22,
     "metadata": {},
     "output_type": "execute_result"
    }
   ],
   "source": [
    "x"
   ]
  },
  {
   "cell_type": "code",
   "execution_count": 25,
   "id": "bb8f417b",
   "metadata": {},
   "outputs": [],
   "source": [
    "y=x+30"
   ]
  },
  {
   "cell_type": "code",
   "execution_count": 26,
   "id": "3ef4abb8",
   "metadata": {},
   "outputs": [
    {
     "data": {
      "text/plain": [
       "45"
      ]
     },
     "execution_count": 26,
     "metadata": {},
     "output_type": "execute_result"
    }
   ],
   "source": [
    "y"
   ]
  },
  {
   "cell_type": "code",
   "execution_count": 32,
   "id": "b66641cc",
   "metadata": {},
   "outputs": [
    {
     "name": "stdout",
     "output_type": "stream",
     "text": [
      "sam is 15 years old and his father is 45 ,years old.\n"
     ]
    }
   ],
   "source": [
    "print(\"sam is\",x,\"years old and his father is\",y,\",years old.\")"
   ]
  },
  {
   "cell_type": "code",
   "execution_count": 34,
   "id": "dfae7aea",
   "metadata": {},
   "outputs": [
    {
     "name": "stdout",
     "output_type": "stream",
     "text": [
      "sam is 15 years old and his father is 45 years old\n"
     ]
    }
   ],
   "source": [
    "print('sam is {a} years old and his father is {b} years old'.format(a=x,b=y))"
   ]
  },
  {
   "cell_type": "code",
   "execution_count": 35,
   "id": "f3a613e3",
   "metadata": {},
   "outputs": [
    {
     "name": "stdout",
     "output_type": "stream",
     "text": [
      "sam is 15 years old and his father is 45 years old.\n"
     ]
    }
   ],
   "source": [
    "print('sam is {0} years old and his father is {1} years old.'.format(x,y))"
   ]
  },
  {
   "cell_type": "code",
   "execution_count": null,
   "id": "e669cd8c",
   "metadata": {},
   "outputs": [],
   "source": []
  }
 ],
 "metadata": {
  "kernelspec": {
   "display_name": "Python 3",
   "language": "python",
   "name": "python3"
  },
  "language_info": {
   "codemirror_mode": {
    "name": "ipython",
    "version": 3
   },
   "file_extension": ".py",
   "mimetype": "text/x-python",
   "name": "python",
   "nbconvert_exporter": "python",
   "pygments_lexer": "ipython3",
   "version": "3.8.8"
  }
 },
 "nbformat": 4,
 "nbformat_minor": 5
}
