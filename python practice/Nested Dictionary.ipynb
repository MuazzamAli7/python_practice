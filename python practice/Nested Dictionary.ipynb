{
 "cells": [
  {
   "cell_type": "code",
   "execution_count": 7,
   "id": "ef0c911f",
   "metadata": {},
   "outputs": [],
   "source": [
    "student={'ali':{'phy':89,'chem':90,'maths':99},\n",
    "         'sam':{'phy':98,'chem':96,'maths':100},\n",
    "         'khan':{'phy':97,'chem':87,'maths':100}}"
   ]
  },
  {
   "cell_type": "code",
   "execution_count": 8,
   "id": "ad11b048",
   "metadata": {},
   "outputs": [
    {
     "data": {
      "text/plain": [
       "{'ali': {'phy': 89, 'chem': 90, 'maths': 99},\n",
       " 'sam': {'phy': 98, 'chem': 96, 'maths': 100},\n",
       " 'khan': {'phy': 97, 'chem': 87, 'maths': 100}}"
      ]
     },
     "execution_count": 8,
     "metadata": {},
     "output_type": "execute_result"
    }
   ],
   "source": [
    "student"
   ]
  },
  {
   "cell_type": "code",
   "execution_count": 9,
   "id": "70da31d5",
   "metadata": {},
   "outputs": [
    {
     "data": {
      "text/plain": [
       "{'phy': 89, 'chem': 90, 'maths': 99}"
      ]
     },
     "execution_count": 9,
     "metadata": {},
     "output_type": "execute_result"
    }
   ],
   "source": [
    "student['ali']"
   ]
  },
  {
   "cell_type": "code",
   "execution_count": 10,
   "id": "634229c4",
   "metadata": {},
   "outputs": [
    {
     "data": {
      "text/plain": [
       "{'phy': 98, 'chem': 96, 'maths': 100}"
      ]
     },
     "execution_count": 10,
     "metadata": {},
     "output_type": "execute_result"
    }
   ],
   "source": [
    "student['sam']"
   ]
  },
  {
   "cell_type": "code",
   "execution_count": 11,
   "id": "ade61a00",
   "metadata": {},
   "outputs": [
    {
     "data": {
      "text/plain": [
       "89"
      ]
     },
     "execution_count": 11,
     "metadata": {},
     "output_type": "execute_result"
    }
   ],
   "source": [
    "student['ali']['phy']"
   ]
  },
  {
   "cell_type": "code",
   "execution_count": 12,
   "id": "385fbbe2",
   "metadata": {},
   "outputs": [
    {
     "name": "stdout",
     "output_type": "stream",
     "text": [
      "ali {'phy': 89, 'chem': 90, 'maths': 99}\n",
      "sam {'phy': 98, 'chem': 96, 'maths': 100}\n",
      "khan {'phy': 97, 'chem': 87, 'maths': 100}\n"
     ]
    }
   ],
   "source": [
    "for i in student:\n",
    "    print(i,student[i])"
   ]
  },
  {
   "cell_type": "code",
   "execution_count": 15,
   "id": "4e8d6476",
   "metadata": {},
   "outputs": [
    {
     "name": "stdout",
     "output_type": "stream",
     "text": [
      "ali got 89 marks in phy\n",
      "sam got 98 marks in phy\n",
      "khan got 97 marks in phy\n"
     ]
    }
   ],
   "source": [
    "for i in student:\n",
    "    print(i,\"got\",student[i]['phy'],'marks in phy')"
   ]
  },
  {
   "cell_type": "code",
   "execution_count": 16,
   "id": "e2b3ca51",
   "metadata": {},
   "outputs": [
    {
     "data": {
      "text/plain": [
       "{'ali': {'phy': 89, 'chem': 90, 'maths': 99},\n",
       " 'sam': {'phy': 98, 'chem': 96, 'maths': 100},\n",
       " 'khan': {'phy': 97, 'chem': 87, 'maths': 100}}"
      ]
     },
     "execution_count": 16,
     "metadata": {},
     "output_type": "execute_result"
    }
   ],
   "source": [
    "student"
   ]
  },
  {
   "cell_type": "code",
   "execution_count": 17,
   "id": "2745d520",
   "metadata": {},
   "outputs": [
    {
     "data": {
      "text/plain": [
       "3"
      ]
     },
     "execution_count": 17,
     "metadata": {},
     "output_type": "execute_result"
    }
   ],
   "source": [
    "len(student)"
   ]
  },
  {
   "cell_type": "code",
   "execution_count": 18,
   "id": "443c6e9c",
   "metadata": {},
   "outputs": [
    {
     "name": "stdout",
     "output_type": "stream",
     "text": [
      "ali 3\n",
      "sam 3\n",
      "khan 3\n"
     ]
    }
   ],
   "source": [
    "for i in student:\n",
    "    print(i,len(student[i]))"
   ]
  },
  {
   "cell_type": "code",
   "execution_count": 23,
   "id": "f9a05d0f",
   "metadata": {},
   "outputs": [],
   "source": [
    "student={'ali':{'phy':89,'chem':90,'maths':99},\n",
    "         'sam':{'phy':98,'chem':96,'maths':100},\n",
    "         'khan':{'phy':97,'chem':87,'maths':100}}"
   ]
  },
  {
   "cell_type": "code",
   "execution_count": 28,
   "id": "46ae24be",
   "metadata": {},
   "outputs": [],
   "source": [
    "subjects=[]\n",
    "for j in student['ali']:\n",
    "    subjects.append(j)"
   ]
  },
  {
   "cell_type": "code",
   "execution_count": 29,
   "id": "01b62f17",
   "metadata": {},
   "outputs": [
    {
     "data": {
      "text/plain": [
       "['phy', 'chem', 'maths']"
      ]
     },
     "execution_count": 29,
     "metadata": {},
     "output_type": "execute_result"
    }
   ],
   "source": [
    "subjects"
   ]
  },
  {
   "cell_type": "code",
   "execution_count": 34,
   "id": "b175e822",
   "metadata": {},
   "outputs": [
    {
     "name": "stdout",
     "output_type": "stream",
     "text": [
      "89\n",
      "98\n",
      "97\n",
      "90\n",
      "96\n",
      "87\n",
      "99\n",
      "100\n",
      "100\n"
     ]
    }
   ],
   "source": [
    "marks=[]\n",
    "for i in subjects:\n",
    "    for j in student:\n",
    "           print(student[j][i])\n",
    "    "
   ]
  },
  {
   "cell_type": "code",
   "execution_count": 44,
   "id": "45212ec6",
   "metadata": {},
   "outputs": [
    {
     "name": "stdout",
     "output_type": "stream",
     "text": [
      "phy 98\n",
      "chem 96\n",
      "maths 100\n"
     ]
    }
   ],
   "source": [
    "for i in subjects:\n",
    "    marks=[]\n",
    "    for j in student:\n",
    "        marks.append(student[j][i])\n",
    "    print(i,max(marks))"
   ]
  },
  {
   "cell_type": "code",
   "execution_count": null,
   "id": "6e5c5977",
   "metadata": {},
   "outputs": [],
   "source": []
  }
 ],
 "metadata": {
  "kernelspec": {
   "display_name": "Python 3",
   "language": "python",
   "name": "python3"
  },
  "language_info": {
   "codemirror_mode": {
    "name": "ipython",
    "version": 3
   },
   "file_extension": ".py",
   "mimetype": "text/x-python",
   "name": "python",
   "nbconvert_exporter": "python",
   "pygments_lexer": "ipython3",
   "version": "3.8.8"
  }
 },
 "nbformat": 4,
 "nbformat_minor": 5
}
