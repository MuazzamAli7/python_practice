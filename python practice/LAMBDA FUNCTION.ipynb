{
 "cells": [
  {
   "cell_type": "code",
   "execution_count": 3,
   "id": "fea33fed",
   "metadata": {},
   "outputs": [],
   "source": [
    "#lamda function helps in creating small function\n",
    "#it can have any number of arguments but can have only expression"
   ]
  },
  {
   "cell_type": "code",
   "execution_count": 10,
   "id": "627ffd99",
   "metadata": {},
   "outputs": [],
   "source": [
    "def square(x):\n",
    "    return(x**2)"
   ]
  },
  {
   "cell_type": "code",
   "execution_count": 11,
   "id": "a6cb9b8d",
   "metadata": {},
   "outputs": [
    {
     "data": {
      "text/plain": [
       "16"
      ]
     },
     "execution_count": 11,
     "metadata": {},
     "output_type": "execute_result"
    }
   ],
   "source": [
    "square(4)"
   ]
  },
  {
   "cell_type": "code",
   "execution_count": 12,
   "id": "d40a8a52",
   "metadata": {},
   "outputs": [
    {
     "data": {
      "text/plain": [
       "144"
      ]
     },
     "execution_count": 12,
     "metadata": {},
     "output_type": "execute_result"
    }
   ],
   "source": [
    "square(12)"
   ]
  },
  {
   "cell_type": "code",
   "execution_count": 1,
   "id": "2a4438ae",
   "metadata": {},
   "outputs": [],
   "source": [
    "#now we will do same operation using lambda function"
   ]
  },
  {
   "cell_type": "code",
   "execution_count": 4,
   "id": "afdab739",
   "metadata": {},
   "outputs": [],
   "source": [
    "square=lambda x:x*x"
   ]
  },
  {
   "cell_type": "code",
   "execution_count": 5,
   "id": "102a6817",
   "metadata": {},
   "outputs": [
    {
     "data": {
      "text/plain": [
       "16"
      ]
     },
     "execution_count": 5,
     "metadata": {},
     "output_type": "execute_result"
    }
   ],
   "source": [
    "square(4)"
   ]
  },
  {
   "cell_type": "code",
   "execution_count": 6,
   "id": "a6b4fe34",
   "metadata": {},
   "outputs": [
    {
     "data": {
      "text/plain": [
       "144"
      ]
     },
     "execution_count": 6,
     "metadata": {},
     "output_type": "execute_result"
    }
   ],
   "source": [
    "square(12)"
   ]
  },
  {
   "cell_type": "code",
   "execution_count": 8,
   "id": "e0686bc6",
   "metadata": {},
   "outputs": [],
   "source": [
    "cube=lambda x:x**3"
   ]
  },
  {
   "cell_type": "code",
   "execution_count": 9,
   "id": "06d6a211",
   "metadata": {},
   "outputs": [
    {
     "data": {
      "text/plain": [
       "8"
      ]
     },
     "execution_count": 9,
     "metadata": {},
     "output_type": "execute_result"
    }
   ],
   "source": [
    "cube(2)"
   ]
  },
  {
   "cell_type": "code",
   "execution_count": 10,
   "id": "b1ef39e0",
   "metadata": {},
   "outputs": [
    {
     "data": {
      "text/plain": [
       "729"
      ]
     },
     "execution_count": 10,
     "metadata": {},
     "output_type": "execute_result"
    }
   ],
   "source": [
    "cube(9)"
   ]
  },
  {
   "cell_type": "code",
   "execution_count": 11,
   "id": "e5214665",
   "metadata": {},
   "outputs": [],
   "source": [
    "def addition (x,y,z):\n",
    "    add=x+y+z\n",
    "    return(add)"
   ]
  },
  {
   "cell_type": "code",
   "execution_count": 12,
   "id": "62c404db",
   "metadata": {},
   "outputs": [
    {
     "data": {
      "text/plain": [
       "78"
      ]
     },
     "execution_count": 12,
     "metadata": {},
     "output_type": "execute_result"
    }
   ],
   "source": [
    "addition(12,23,43)"
   ]
  },
  {
   "cell_type": "code",
   "execution_count": 13,
   "id": "9dd864c9",
   "metadata": {},
   "outputs": [],
   "source": [
    "addition=lambda x,y,z:x+y+z"
   ]
  },
  {
   "cell_type": "code",
   "execution_count": 14,
   "id": "8a9a7d0c",
   "metadata": {},
   "outputs": [
    {
     "data": {
      "text/plain": [
       "78"
      ]
     },
     "execution_count": 14,
     "metadata": {},
     "output_type": "execute_result"
    }
   ],
   "source": [
    "addition(12,23,43)"
   ]
  },
  {
   "cell_type": "code",
   "execution_count": 15,
   "id": "7bca11d7",
   "metadata": {},
   "outputs": [],
   "source": [
    "product=lambda x,y,z:x*y*z"
   ]
  },
  {
   "cell_type": "code",
   "execution_count": 16,
   "id": "e6da0d52",
   "metadata": {},
   "outputs": [
    {
     "data": {
      "text/plain": [
       "48"
      ]
     },
     "execution_count": 16,
     "metadata": {},
     "output_type": "execute_result"
    }
   ],
   "source": [
    "product(12,2,2)"
   ]
  },
  {
   "cell_type": "code",
   "execution_count": 21,
   "id": "4a277189",
   "metadata": {},
   "outputs": [],
   "source": [
    "def greater (x):\n",
    "    if x>15:\n",
    "        print('greater than 15')\n",
    "    else:\n",
    "        print('lesser')"
   ]
  },
  {
   "cell_type": "code",
   "execution_count": 22,
   "id": "de9e61d3",
   "metadata": {},
   "outputs": [
    {
     "name": "stdout",
     "output_type": "stream",
     "text": [
      "lesser\n"
     ]
    }
   ],
   "source": [
    "greater(12)"
   ]
  },
  {
   "cell_type": "code",
   "execution_count": 23,
   "id": "c818965c",
   "metadata": {},
   "outputs": [
    {
     "name": "stdout",
     "output_type": "stream",
     "text": [
      "lesser\n"
     ]
    }
   ],
   "source": [
    "greater(15)"
   ]
  },
  {
   "cell_type": "code",
   "execution_count": 24,
   "id": "eb066438",
   "metadata": {},
   "outputs": [
    {
     "name": "stdout",
     "output_type": "stream",
     "text": [
      "greater than 15\n"
     ]
    }
   ],
   "source": [
    "greater(15.5)"
   ]
  },
  {
   "cell_type": "code",
   "execution_count": 27,
   "id": "a07fe3e0",
   "metadata": {},
   "outputs": [],
   "source": [
    "greater=lambda x:'greater than 15'if x>15 else'lesser than 15'"
   ]
  },
  {
   "cell_type": "code",
   "execution_count": 28,
   "id": "e50ec724",
   "metadata": {},
   "outputs": [
    {
     "data": {
      "text/plain": [
       "'lesser than 15'"
      ]
     },
     "execution_count": 28,
     "metadata": {},
     "output_type": "execute_result"
    }
   ],
   "source": [
    "greater(12)"
   ]
  },
  {
   "cell_type": "code",
   "execution_count": 31,
   "id": "14cb9f17",
   "metadata": {},
   "outputs": [
    {
     "data": {
      "text/plain": [
       "'greater than 15'"
      ]
     },
     "execution_count": 31,
     "metadata": {},
     "output_type": "execute_result"
    }
   ],
   "source": [
    "greater(16)"
   ]
  },
  {
   "cell_type": "code",
   "execution_count": 43,
   "id": "e75843d4",
   "metadata": {},
   "outputs": [],
   "source": [
    "def add(x,y):\n",
    "    add=x + y\n",
    "    if x+y==10:\n",
    "        return(True)\n",
    "    else:\n",
    "        return(False)"
   ]
  },
  {
   "cell_type": "code",
   "execution_count": 44,
   "id": "8a95192b",
   "metadata": {},
   "outputs": [
    {
     "data": {
      "text/plain": [
       "True"
      ]
     },
     "execution_count": 44,
     "metadata": {},
     "output_type": "execute_result"
    }
   ],
   "source": [
    "add(5,5)"
   ]
  },
  {
   "cell_type": "code",
   "execution_count": 45,
   "id": "5c79aff5",
   "metadata": {},
   "outputs": [
    {
     "data": {
      "text/plain": [
       "False"
      ]
     },
     "execution_count": 45,
     "metadata": {},
     "output_type": "execute_result"
    }
   ],
   "source": [
    "add(10,12)"
   ]
  },
  {
   "cell_type": "code",
   "execution_count": 47,
   "id": "1e46f16f",
   "metadata": {},
   "outputs": [],
   "source": [
    "add=lambda x,y:True if x+y>10 else False"
   ]
  },
  {
   "cell_type": "code",
   "execution_count": 48,
   "id": "7ec79350",
   "metadata": {},
   "outputs": [
    {
     "data": {
      "text/plain": [
       "True"
      ]
     },
     "execution_count": 48,
     "metadata": {},
     "output_type": "execute_result"
    }
   ],
   "source": [
    "add(12,2)"
   ]
  },
  {
   "cell_type": "code",
   "execution_count": 49,
   "id": "50ed4a99",
   "metadata": {},
   "outputs": [],
   "source": [
    "def even(x):\n",
    "    if x%2==0:\n",
    "        return('even')\n",
    "    else:\n",
    "        return('odd')"
   ]
  },
  {
   "cell_type": "code",
   "execution_count": 50,
   "id": "bd498a1f",
   "metadata": {},
   "outputs": [
    {
     "data": {
      "text/plain": [
       "'odd'"
      ]
     },
     "execution_count": 50,
     "metadata": {},
     "output_type": "execute_result"
    }
   ],
   "source": [
    "even(13)"
   ]
  },
  {
   "cell_type": "code",
   "execution_count": 52,
   "id": "6b1c84b6",
   "metadata": {},
   "outputs": [
    {
     "data": {
      "text/plain": [
       "'even'"
      ]
     },
     "execution_count": 52,
     "metadata": {},
     "output_type": "execute_result"
    }
   ],
   "source": [
    "even(12)"
   ]
  },
  {
   "cell_type": "code",
   "execution_count": 53,
   "id": "42296833",
   "metadata": {},
   "outputs": [
    {
     "data": {
      "text/plain": [
       "'odd'"
      ]
     },
     "execution_count": 53,
     "metadata": {},
     "output_type": "execute_result"
    }
   ],
   "source": [
    "even(12.4)"
   ]
  },
  {
   "cell_type": "code",
   "execution_count": 54,
   "id": "8af45b95",
   "metadata": {},
   "outputs": [],
   "source": [
    "even=lambda x:'even'if x%2==0 else 'odd'"
   ]
  },
  {
   "cell_type": "code",
   "execution_count": 55,
   "id": "8d514f1e",
   "metadata": {},
   "outputs": [
    {
     "data": {
      "text/plain": [
       "'even'"
      ]
     },
     "execution_count": 55,
     "metadata": {},
     "output_type": "execute_result"
    }
   ],
   "source": [
    "even(12)"
   ]
  },
  {
   "cell_type": "code",
   "execution_count": 56,
   "id": "2c7331cf",
   "metadata": {},
   "outputs": [
    {
     "data": {
      "text/plain": [
       "'odd'"
      ]
     },
     "execution_count": 56,
     "metadata": {},
     "output_type": "execute_result"
    }
   ],
   "source": [
    "even(13)"
   ]
  },
  {
   "cell_type": "code",
   "execution_count": null,
   "id": "f8237a66",
   "metadata": {},
   "outputs": [],
   "source": []
  }
 ],
 "metadata": {
  "kernelspec": {
   "display_name": "Python 3",
   "language": "python",
   "name": "python3"
  },
  "language_info": {
   "codemirror_mode": {
    "name": "ipython",
    "version": 3
   },
   "file_extension": ".py",
   "mimetype": "text/x-python",
   "name": "python",
   "nbconvert_exporter": "python",
   "pygments_lexer": "ipython3",
   "version": "3.8.8"
  }
 },
 "nbformat": 4,
 "nbformat_minor": 5
}
