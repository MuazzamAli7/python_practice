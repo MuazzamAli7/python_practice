{
 "cells": [
  {
   "cell_type": "markdown",
   "id": "74847d71",
   "metadata": {},
   "source": [
    "# APPEND"
   ]
  },
  {
   "cell_type": "code",
   "execution_count": 5,
   "id": "3dd80243",
   "metadata": {},
   "outputs": [],
   "source": [
    "A=[1,2,3,4,5,7,8,9,21,43,232,554,65,776,554,24,11,34,565]"
   ]
  },
  {
   "cell_type": "code",
   "execution_count": 6,
   "id": "7929d7ac",
   "metadata": {},
   "outputs": [
    {
     "data": {
      "text/plain": [
       "[1, 2, 3, 4, 5, 7, 8, 9, 21, 43, 232, 554, 65, 776, 554, 24, 11, 34, 565]"
      ]
     },
     "execution_count": 6,
     "metadata": {},
     "output_type": "execute_result"
    }
   ],
   "source": [
    "A"
   ]
  },
  {
   "cell_type": "code",
   "execution_count": 7,
   "id": "6e1ac4cf",
   "metadata": {},
   "outputs": [],
   "source": [
    "A.append(67)"
   ]
  },
  {
   "cell_type": "code",
   "execution_count": 9,
   "id": "288edda9",
   "metadata": {},
   "outputs": [
    {
     "data": {
      "text/plain": [
       "[1, 2, 3, 4, 5, 7, 8, 9, 21, 43, 232, 554, 65, 776, 554, 24, 11, 34, 565, 67]"
      ]
     },
     "execution_count": 9,
     "metadata": {},
     "output_type": "execute_result"
    }
   ],
   "source": [
    "A"
   ]
  },
  {
   "cell_type": "code",
   "execution_count": 10,
   "id": "fdab18bd",
   "metadata": {},
   "outputs": [
    {
     "data": {
      "text/plain": [
       "[1, 2, 3, 4, 5, 7, 8, 9, 21, 43, 232, 554, 65, 776, 554, 24, 11, 34, 565, 67]"
      ]
     },
     "execution_count": 10,
     "metadata": {},
     "output_type": "execute_result"
    }
   ],
   "source": [
    "A"
   ]
  },
  {
   "cell_type": "code",
   "execution_count": 18,
   "id": "a134813b",
   "metadata": {},
   "outputs": [],
   "source": [
    "A.append([1,2])"
   ]
  },
  {
   "cell_type": "code",
   "execution_count": 20,
   "id": "5c9c1274",
   "metadata": {},
   "outputs": [],
   "source": [
    "A=[1,2,3,4,5,7,8,9,21,43,232,554,65]"
   ]
  },
  {
   "cell_type": "code",
   "execution_count": 21,
   "id": "8b2ecfa4",
   "metadata": {},
   "outputs": [
    {
     "data": {
      "text/plain": [
       "[1, 2, 3, 4, 5, 7, 8, 9, 21, 43, 232, 554, 65]"
      ]
     },
     "execution_count": 21,
     "metadata": {},
     "output_type": "execute_result"
    }
   ],
   "source": [
    "A"
   ]
  },
  {
   "cell_type": "code",
   "execution_count": 22,
   "id": "4bd40df3",
   "metadata": {},
   "outputs": [],
   "source": [
    "A.append([1,2,3])"
   ]
  },
  {
   "cell_type": "code",
   "execution_count": 23,
   "id": "7f542ad2",
   "metadata": {},
   "outputs": [
    {
     "data": {
      "text/plain": [
       "[1, 2, 3, 4, 5, 7, 8, 9, 21, 43, 232, 554, 65, [1, 2, 3]]"
      ]
     },
     "execution_count": 23,
     "metadata": {},
     "output_type": "execute_result"
    }
   ],
   "source": [
    "A"
   ]
  },
  {
   "cell_type": "markdown",
   "id": "cb5a1cde",
   "metadata": {},
   "source": [
    "# Extend"
   ]
  },
  {
   "cell_type": "code",
   "execution_count": 24,
   "id": "cce3f677",
   "metadata": {},
   "outputs": [],
   "source": [
    "A=[1,2,3,4,5,7,8,9,21,43,232,554,65]\n",
    "B=[1,2,3,4,5]"
   ]
  },
  {
   "cell_type": "code",
   "execution_count": 25,
   "id": "37efc802",
   "metadata": {},
   "outputs": [],
   "source": [
    "A.extend([1,2,3,4])"
   ]
  },
  {
   "cell_type": "code",
   "execution_count": 26,
   "id": "a743252d",
   "metadata": {},
   "outputs": [
    {
     "data": {
      "text/plain": [
       "[1, 2, 3, 4, 5, 7, 8, 9, 21, 43, 232, 554, 65, 1, 2, 3, 4]"
      ]
     },
     "execution_count": 26,
     "metadata": {},
     "output_type": "execute_result"
    }
   ],
   "source": [
    "A"
   ]
  },
  {
   "cell_type": "code",
   "execution_count": 27,
   "id": "acc9c563",
   "metadata": {},
   "outputs": [],
   "source": [
    "A=[1,2,3,4,5,7,8,9,21,43,232,554,65]"
   ]
  },
  {
   "cell_type": "code",
   "execution_count": 28,
   "id": "82b72303",
   "metadata": {},
   "outputs": [
    {
     "data": {
      "text/plain": [
       "[1, 2, 3, 4, 5, 7, 8, 9, 21, 43, 232, 554, 65]"
      ]
     },
     "execution_count": 28,
     "metadata": {},
     "output_type": "execute_result"
    }
   ],
   "source": [
    "A"
   ]
  },
  {
   "cell_type": "markdown",
   "id": "aa2f50ec",
   "metadata": {},
   "source": [
    "# INSERT"
   ]
  },
  {
   "cell_type": "code",
   "execution_count": null,
   "id": "d49c6b1a",
   "metadata": {},
   "outputs": [],
   "source": [
    "#A.insert(index,number)"
   ]
  },
  {
   "cell_type": "code",
   "execution_count": 29,
   "id": "576fc7bb",
   "metadata": {},
   "outputs": [],
   "source": [
    "A=[1,2,3,4,5,7,8,9,21,43,232,554,65]"
   ]
  },
  {
   "cell_type": "code",
   "execution_count": 38,
   "id": "9b5dc3aa",
   "metadata": {},
   "outputs": [],
   "source": [
    "A.insert(-2,-1)"
   ]
  },
  {
   "cell_type": "code",
   "execution_count": 40,
   "id": "67b4386c",
   "metadata": {},
   "outputs": [
    {
     "data": {
      "text/plain": [
       "[1, 2, 3, 4, 5, 2, 7, 8, 9, 21, 43, 232, -1, 554, 65]"
      ]
     },
     "execution_count": 40,
     "metadata": {},
     "output_type": "execute_result"
    }
   ],
   "source": [
    "A"
   ]
  },
  {
   "cell_type": "code",
   "execution_count": 41,
   "id": "aaee2cb0",
   "metadata": {},
   "outputs": [],
   "source": [
    "A=[1,2,3,4,5,7,8,9,21,43,232,554,65]"
   ]
  },
  {
   "cell_type": "code",
   "execution_count": 33,
   "id": "cb167b5d",
   "metadata": {},
   "outputs": [],
   "source": [
    "A.insert(12,9)"
   ]
  },
  {
   "cell_type": "code",
   "execution_count": 42,
   "id": "82587eca",
   "metadata": {},
   "outputs": [
    {
     "data": {
      "text/plain": [
       "[1, 2, 3, 4, 5, 7, 8, 9, 21, 43, 232, 554, 65]"
      ]
     },
     "execution_count": 42,
     "metadata": {},
     "output_type": "execute_result"
    }
   ],
   "source": [
    "A"
   ]
  },
  {
   "cell_type": "code",
   "execution_count": 35,
   "id": "f86e5616",
   "metadata": {},
   "outputs": [],
   "source": [
    "A=[1,2,3,4,5,7,8,9,21,43,232,554,65]"
   ]
  },
  {
   "cell_type": "code",
   "execution_count": 43,
   "id": "77c400c1",
   "metadata": {},
   "outputs": [],
   "source": [
    "A.insert(5,2)"
   ]
  },
  {
   "cell_type": "code",
   "execution_count": 44,
   "id": "309188d5",
   "metadata": {},
   "outputs": [
    {
     "data": {
      "text/plain": [
       "[1, 2, 3, 4, 5, 2, 7, 8, 9, 21, 43, 232, 554, 65]"
      ]
     },
     "execution_count": 44,
     "metadata": {},
     "output_type": "execute_result"
    }
   ],
   "source": [
    "A"
   ]
  },
  {
   "cell_type": "markdown",
   "id": "ad70606f",
   "metadata": {},
   "source": [
    "# POP"
   ]
  },
  {
   "cell_type": "code",
   "execution_count": 55,
   "id": "bcc02a46",
   "metadata": {},
   "outputs": [],
   "source": [
    "#pop is used to remove an element from a particular  index in a list\n",
    "#A.pop(index num)"
   ]
  },
  {
   "cell_type": "code",
   "execution_count": 46,
   "id": "e16a1826",
   "metadata": {},
   "outputs": [],
   "source": [
    "A=[1,2,3,4,5,7,8,9,21,43,232,554,65]"
   ]
  },
  {
   "cell_type": "code",
   "execution_count": 47,
   "id": "07040544",
   "metadata": {},
   "outputs": [
    {
     "data": {
      "text/plain": [
       "65"
      ]
     },
     "execution_count": 47,
     "metadata": {},
     "output_type": "execute_result"
    }
   ],
   "source": [
    "A.pop()"
   ]
  },
  {
   "cell_type": "code",
   "execution_count": 48,
   "id": "4664481b",
   "metadata": {},
   "outputs": [
    {
     "data": {
      "text/plain": [
       "[1, 2, 3, 4, 5, 7, 8, 9, 21, 43, 232, 554]"
      ]
     },
     "execution_count": 48,
     "metadata": {},
     "output_type": "execute_result"
    }
   ],
   "source": [
    "A"
   ]
  },
  {
   "cell_type": "code",
   "execution_count": 49,
   "id": "0fa5be6e",
   "metadata": {},
   "outputs": [
    {
     "data": {
      "text/plain": [
       "1"
      ]
     },
     "execution_count": 49,
     "metadata": {},
     "output_type": "execute_result"
    }
   ],
   "source": [
    "A.pop(0)"
   ]
  },
  {
   "cell_type": "code",
   "execution_count": 50,
   "id": "d2940327",
   "metadata": {},
   "outputs": [
    {
     "data": {
      "text/plain": [
       "[2, 3, 4, 5, 7, 8, 9, 21, 43, 232, 554]"
      ]
     },
     "execution_count": 50,
     "metadata": {},
     "output_type": "execute_result"
    }
   ],
   "source": [
    "A"
   ]
  },
  {
   "cell_type": "code",
   "execution_count": 52,
   "id": "532be6e4",
   "metadata": {},
   "outputs": [
    {
     "data": {
      "text/plain": [
       "8"
      ]
     },
     "execution_count": 52,
     "metadata": {},
     "output_type": "execute_result"
    }
   ],
   "source": [
    "A.pop(-6)"
   ]
  },
  {
   "cell_type": "code",
   "execution_count": 53,
   "id": "258ec485",
   "metadata": {},
   "outputs": [
    {
     "data": {
      "text/plain": [
       "[2, 3, 4, 5, 7, 9, 21, 43, 232, 554]"
      ]
     },
     "execution_count": 53,
     "metadata": {},
     "output_type": "execute_result"
    }
   ],
   "source": [
    "A"
   ]
  },
  {
   "cell_type": "markdown",
   "id": "bfc60be0",
   "metadata": {},
   "source": [
    "# REMOVE"
   ]
  },
  {
   "cell_type": "code",
   "execution_count": 56,
   "id": "d29e04eb",
   "metadata": {},
   "outputs": [],
   "source": [
    "#REMOVE IS USED TO DELETE A PARTICULAR NUMBER DIRECTLY\n",
    "#A.remove(num )"
   ]
  },
  {
   "cell_type": "code",
   "execution_count": 57,
   "id": "063e94c6",
   "metadata": {},
   "outputs": [],
   "source": [
    "A=[1,2,3,4,5,6,74,2,5,3,1,4,2,5]"
   ]
  },
  {
   "cell_type": "code",
   "execution_count": 58,
   "id": "b37983fd",
   "metadata": {},
   "outputs": [],
   "source": [
    "A.remove(2)"
   ]
  },
  {
   "cell_type": "code",
   "execution_count": 59,
   "id": "3d3d2f31",
   "metadata": {},
   "outputs": [
    {
     "data": {
      "text/plain": [
       "[1, 3, 4, 5, 6, 74, 2, 5, 3, 1, 4, 2, 5]"
      ]
     },
     "execution_count": 59,
     "metadata": {},
     "output_type": "execute_result"
    }
   ],
   "source": [
    "A"
   ]
  },
  {
   "cell_type": "code",
   "execution_count": 60,
   "id": "e68020e9",
   "metadata": {},
   "outputs": [],
   "source": [
    "A.remove(2)"
   ]
  },
  {
   "cell_type": "code",
   "execution_count": 61,
   "id": "f926e3c6",
   "metadata": {},
   "outputs": [
    {
     "data": {
      "text/plain": [
       "[1, 3, 4, 5, 6, 74, 5, 3, 1, 4, 2, 5]"
      ]
     },
     "execution_count": 61,
     "metadata": {},
     "output_type": "execute_result"
    }
   ],
   "source": [
    "A"
   ]
  },
  {
   "cell_type": "code",
   "execution_count": 62,
   "id": "37f35bd1",
   "metadata": {},
   "outputs": [],
   "source": [
    "A.remove(1)"
   ]
  },
  {
   "cell_type": "code",
   "execution_count": 63,
   "id": "ba9c56c4",
   "metadata": {},
   "outputs": [
    {
     "data": {
      "text/plain": [
       "[3, 4, 5, 6, 74, 5, 3, 1, 4, 2, 5]"
      ]
     },
     "execution_count": 63,
     "metadata": {},
     "output_type": "execute_result"
    }
   ],
   "source": [
    "A"
   ]
  },
  {
   "cell_type": "code",
   "execution_count": 64,
   "id": "71d5e5c8",
   "metadata": {},
   "outputs": [],
   "source": [
    "A.remove(1)"
   ]
  },
  {
   "cell_type": "code",
   "execution_count": 66,
   "id": "11b34ea0",
   "metadata": {},
   "outputs": [
    {
     "data": {
      "text/plain": [
       "[3, 4, 5, 6, 74, 5, 3, 4, 2, 5]"
      ]
     },
     "execution_count": 66,
     "metadata": {},
     "output_type": "execute_result"
    }
   ],
   "source": [
    "A"
   ]
  },
  {
   "cell_type": "code",
   "execution_count": 68,
   "id": "a5529df7",
   "metadata": {},
   "outputs": [],
   "source": [
    "A.remove(5)"
   ]
  },
  {
   "cell_type": "code",
   "execution_count": 69,
   "id": "35687da8",
   "metadata": {},
   "outputs": [
    {
     "data": {
      "text/plain": [
       "[3, 4, 6, 74, 5, 3, 4, 2, 5]"
      ]
     },
     "execution_count": 69,
     "metadata": {},
     "output_type": "execute_result"
    }
   ],
   "source": [
    "A"
   ]
  },
  {
   "cell_type": "code",
   "execution_count": 71,
   "id": "a5487383",
   "metadata": {},
   "outputs": [],
   "source": [
    "A.remove(5)"
   ]
  },
  {
   "cell_type": "code",
   "execution_count": 72,
   "id": "4c778be1",
   "metadata": {},
   "outputs": [
    {
     "data": {
      "text/plain": [
       "[3, 4, 6, 74, 3, 4, 2, 5]"
      ]
     },
     "execution_count": 72,
     "metadata": {},
     "output_type": "execute_result"
    }
   ],
   "source": [
    "A"
   ]
  },
  {
   "cell_type": "markdown",
   "id": "7e452767",
   "metadata": {},
   "source": [
    "# COUNT"
   ]
  },
  {
   "cell_type": "code",
   "execution_count": 73,
   "id": "c1c946bc",
   "metadata": {},
   "outputs": [],
   "source": [
    "#COUNT HOW MANY TIMES A NUMBER IS PRESENT IN A LIST"
   ]
  },
  {
   "cell_type": "code",
   "execution_count": 74,
   "id": "63e97f35",
   "metadata": {},
   "outputs": [],
   "source": [
    "A=[1,2,3,4,5,7,8,9,21,43,232,554,65,776,554,24,11,34,565]"
   ]
  },
  {
   "cell_type": "code",
   "execution_count": 75,
   "id": "43663eae",
   "metadata": {},
   "outputs": [
    {
     "data": {
      "text/plain": [
       "1"
      ]
     },
     "execution_count": 75,
     "metadata": {},
     "output_type": "execute_result"
    }
   ],
   "source": [
    "A.count(5)"
   ]
  },
  {
   "cell_type": "code",
   "execution_count": 77,
   "id": "92312dc4",
   "metadata": {},
   "outputs": [
    {
     "data": {
      "text/plain": [
       "0"
      ]
     },
     "execution_count": 77,
     "metadata": {},
     "output_type": "execute_result"
    }
   ],
   "source": [
    "A.count(6)"
   ]
  },
  {
   "cell_type": "code",
   "execution_count": 78,
   "id": "a7d819c8",
   "metadata": {},
   "outputs": [
    {
     "data": {
      "text/plain": [
       "1"
      ]
     },
     "execution_count": 78,
     "metadata": {},
     "output_type": "execute_result"
    }
   ],
   "source": [
    "A.count(2)"
   ]
  },
  {
   "cell_type": "code",
   "execution_count": 79,
   "id": "e1b9dcb7",
   "metadata": {},
   "outputs": [
    {
     "data": {
      "text/plain": [
       "0"
      ]
     },
     "execution_count": 79,
     "metadata": {},
     "output_type": "execute_result"
    }
   ],
   "source": [
    "A.count(6)"
   ]
  },
  {
   "cell_type": "markdown",
   "id": "619b7c62",
   "metadata": {},
   "source": [
    "# INDEX"
   ]
  },
  {
   "cell_type": "code",
   "execution_count": 89,
   "id": "e0558cf0",
   "metadata": {},
   "outputs": [],
   "source": [
    "#INDEX TELLS US ABOUT THE INDEX OF A NUMBER IN A LIST\n",
    "#A.index(number)"
   ]
  },
  {
   "cell_type": "code",
   "execution_count": 86,
   "id": "3ecd23d8",
   "metadata": {},
   "outputs": [
    {
     "data": {
      "text/plain": [
       "[1, 2, 3, 4, 5, 7, 8, 9, 21, 43, 232, 554, 65, 776, 554, 24, 11, 34, 565]"
      ]
     },
     "execution_count": 86,
     "metadata": {},
     "output_type": "execute_result"
    }
   ],
   "source": [
    "A"
   ]
  },
  {
   "cell_type": "code",
   "execution_count": 87,
   "id": "27ed5ac4",
   "metadata": {},
   "outputs": [
    {
     "data": {
      "text/plain": [
       "10"
      ]
     },
     "execution_count": 87,
     "metadata": {},
     "output_type": "execute_result"
    }
   ],
   "source": [
    "A.index(232)"
   ]
  },
  {
   "cell_type": "code",
   "execution_count": 90,
   "id": "8a9bc982",
   "metadata": {},
   "outputs": [
    {
     "data": {
      "text/plain": [
       "18"
      ]
     },
     "execution_count": 90,
     "metadata": {},
     "output_type": "execute_result"
    }
   ],
   "source": [
    "A.index(565)"
   ]
  },
  {
   "cell_type": "markdown",
   "id": "6281ff29",
   "metadata": {},
   "source": [
    "# REVERSE"
   ]
  },
  {
   "cell_type": "code",
   "execution_count": 91,
   "id": "b40bbcde",
   "metadata": {},
   "outputs": [],
   "source": [
    "A=[1,2,3,4,5,7,8,9,21,43,232,554,65,776,554,24,11,34,565]"
   ]
  },
  {
   "cell_type": "code",
   "execution_count": 92,
   "id": "9bdfd6d6",
   "metadata": {},
   "outputs": [],
   "source": [
    "A.reverse()"
   ]
  },
  {
   "cell_type": "code",
   "execution_count": 93,
   "id": "9b9cebef",
   "metadata": {},
   "outputs": [
    {
     "data": {
      "text/plain": [
       "[565, 34, 11, 24, 554, 776, 65, 554, 232, 43, 21, 9, 8, 7, 5, 4, 3, 2, 1]"
      ]
     },
     "execution_count": 93,
     "metadata": {},
     "output_type": "execute_result"
    }
   ],
   "source": [
    "A"
   ]
  },
  {
   "cell_type": "markdown",
   "id": "ac71f733",
   "metadata": {},
   "source": [
    "# SORT"
   ]
  },
  {
   "cell_type": "code",
   "execution_count": 98,
   "id": "3789ea65",
   "metadata": {},
   "outputs": [],
   "source": [
    "A=[1,2,3,4,6,4,2,4,5,3,1,2,2,3,5,6]"
   ]
  },
  {
   "cell_type": "code",
   "execution_count": 99,
   "id": "3d999324",
   "metadata": {},
   "outputs": [],
   "source": [
    "A.sort()"
   ]
  },
  {
   "cell_type": "code",
   "execution_count": 100,
   "id": "d71d416a",
   "metadata": {},
   "outputs": [
    {
     "data": {
      "text/plain": [
       "[1, 1, 2, 2, 2, 2, 3, 3, 3, 4, 4, 4, 5, 5, 6, 6]"
      ]
     },
     "execution_count": 100,
     "metadata": {},
     "output_type": "execute_result"
    }
   ],
   "source": [
    "A"
   ]
  },
  {
   "cell_type": "code",
   "execution_count": 101,
   "id": "4af58ef6",
   "metadata": {},
   "outputs": [],
   "source": [
    "A.sort(reverse=True)"
   ]
  },
  {
   "cell_type": "code",
   "execution_count": 102,
   "id": "15ae9428",
   "metadata": {},
   "outputs": [
    {
     "data": {
      "text/plain": [
       "[6, 6, 5, 5, 4, 4, 4, 3, 3, 3, 2, 2, 2, 2, 1, 1]"
      ]
     },
     "execution_count": 102,
     "metadata": {},
     "output_type": "execute_result"
    }
   ],
   "source": [
    "A"
   ]
  },
  {
   "cell_type": "markdown",
   "id": "a88187fb",
   "metadata": {},
   "source": [
    "# len"
   ]
  },
  {
   "cell_type": "code",
   "execution_count": 103,
   "id": "aaf6876b",
   "metadata": {},
   "outputs": [],
   "source": [
    "A=[1,2,3,4,5,7,8,9,21,43,232,554,65,776,554,24,11,34,565]"
   ]
  },
  {
   "cell_type": "code",
   "execution_count": 104,
   "id": "e03079db",
   "metadata": {},
   "outputs": [
    {
     "data": {
      "text/plain": [
       "19"
      ]
     },
     "execution_count": 104,
     "metadata": {},
     "output_type": "execute_result"
    }
   ],
   "source": [
    "len(A)"
   ]
  },
  {
   "cell_type": "code",
   "execution_count": 105,
   "id": "ca6ed9c3",
   "metadata": {},
   "outputs": [],
   "source": [
    "A.remove(232)"
   ]
  },
  {
   "cell_type": "code",
   "execution_count": 106,
   "id": "ad9a62a9",
   "metadata": {},
   "outputs": [
    {
     "data": {
      "text/plain": [
       "[1, 2, 3, 4, 5, 7, 8, 9, 21, 43, 554, 65, 776, 554, 24, 11, 34, 565]"
      ]
     },
     "execution_count": 106,
     "metadata": {},
     "output_type": "execute_result"
    }
   ],
   "source": [
    "A"
   ]
  },
  {
   "cell_type": "code",
   "execution_count": 107,
   "id": "ec4316c2",
   "metadata": {},
   "outputs": [
    {
     "data": {
      "text/plain": [
       "18"
      ]
     },
     "execution_count": 107,
     "metadata": {},
     "output_type": "execute_result"
    }
   ],
   "source": [
    "len(A)"
   ]
  },
  {
   "cell_type": "code",
   "execution_count": null,
   "id": "d1874237",
   "metadata": {},
   "outputs": [],
   "source": []
  }
 ],
 "metadata": {
  "kernelspec": {
   "display_name": "Python 3",
   "language": "python",
   "name": "python3"
  },
  "language_info": {
   "codemirror_mode": {
    "name": "ipython",
    "version": 3
   },
   "file_extension": ".py",
   "mimetype": "text/x-python",
   "name": "python",
   "nbconvert_exporter": "python",
   "pygments_lexer": "ipython3",
   "version": "3.8.8"
  }
 },
 "nbformat": 4,
 "nbformat_minor": 5
}
