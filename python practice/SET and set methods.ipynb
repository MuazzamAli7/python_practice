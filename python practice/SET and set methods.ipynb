{
 "cells": [
  {
   "cell_type": "markdown",
   "id": "e6bcb9b9",
   "metadata": {},
   "source": [
    "# SET"
   ]
  },
  {
   "cell_type": "code",
   "execution_count": 6,
   "id": "53c85546",
   "metadata": {},
   "outputs": [],
   "source": [
    "#SETS ARE UNORDERED (NO INDEXES LIKE IN LIST)\n",
    "#ELEMENTS IN SETS ARE UNIQUE MEANS: NO TWO SAME ELEMENTS EXISTS IN A SET\n",
    "#DEFINED USING CURLY BRACKETS ...{}"
   ]
  },
  {
   "cell_type": "code",
   "execution_count": 4,
   "id": "77c347a9",
   "metadata": {},
   "outputs": [],
   "source": [
    "A={1,2,2,4,5,6,3,8,\"HELLO\",\"HI\"}"
   ]
  },
  {
   "cell_type": "code",
   "execution_count": 5,
   "id": "1842423d",
   "metadata": {},
   "outputs": [
    {
     "data": {
      "text/plain": [
       "{1, 2, 3, 4, 5, 6, 8, 'HELLO', 'HI'}"
      ]
     },
     "execution_count": 5,
     "metadata": {},
     "output_type": "execute_result"
    }
   ],
   "source": [
    "A"
   ]
  },
  {
   "cell_type": "code",
   "execution_count": 7,
   "id": "5273ee37",
   "metadata": {},
   "outputs": [],
   "source": [
    "A={True,False,0,1,2,4,7,3,5,2}"
   ]
  },
  {
   "cell_type": "code",
   "execution_count": 8,
   "id": "78cd1146",
   "metadata": {},
   "outputs": [
    {
     "data": {
      "text/plain": [
       "{False, True, 2, 3, 4, 5, 7}"
      ]
     },
     "execution_count": 8,
     "metadata": {},
     "output_type": "execute_result"
    }
   ],
   "source": [
    "A"
   ]
  },
  {
   "cell_type": "code",
   "execution_count": 9,
   "id": "1a989796",
   "metadata": {},
   "outputs": [],
   "source": [
    "A={1,2,4,4.0,3,3.25}"
   ]
  },
  {
   "cell_type": "code",
   "execution_count": 10,
   "id": "ccc540a3",
   "metadata": {},
   "outputs": [
    {
     "data": {
      "text/plain": [
       "{1, 2, 3, 3.25, 4}"
      ]
     },
     "execution_count": 10,
     "metadata": {},
     "output_type": "execute_result"
    }
   ],
   "source": [
    "A"
   ]
  },
  {
   "cell_type": "code",
   "execution_count": 11,
   "id": "a52030c3",
   "metadata": {},
   "outputs": [
    {
     "data": {
      "text/plain": [
       "set"
      ]
     },
     "execution_count": 11,
     "metadata": {},
     "output_type": "execute_result"
    }
   ],
   "source": [
    "type(A)"
   ]
  },
  {
   "cell_type": "markdown",
   "id": "0d197cdf",
   "metadata": {},
   "source": [
    "# CONVERSION OF LIST TO SET"
   ]
  },
  {
   "cell_type": "code",
   "execution_count": 12,
   "id": "d9994bd2",
   "metadata": {},
   "outputs": [],
   "source": [
    "A=[1,2,2,3,3,4,6,7,True,False]"
   ]
  },
  {
   "cell_type": "code",
   "execution_count": 13,
   "id": "ccd02f46",
   "metadata": {},
   "outputs": [
    {
     "data": {
      "text/plain": [
       "[1, 2, 2, 3, 3, 4, 6, 7, True, False]"
      ]
     },
     "execution_count": 13,
     "metadata": {},
     "output_type": "execute_result"
    }
   ],
   "source": [
    "A"
   ]
  },
  {
   "cell_type": "code",
   "execution_count": 14,
   "id": "165c9dd2",
   "metadata": {},
   "outputs": [
    {
     "data": {
      "text/plain": [
       "{False, 1, 2, 3, 4, 6, 7}"
      ]
     },
     "execution_count": 14,
     "metadata": {},
     "output_type": "execute_result"
    }
   ],
   "source": [
    "set(A)"
   ]
  },
  {
   "cell_type": "code",
   "execution_count": 15,
   "id": "cdacb8d6",
   "metadata": {},
   "outputs": [
    {
     "name": "stdout",
     "output_type": "stream",
     "text": [
      "1\n",
      "2\n",
      "2\n",
      "3\n",
      "3\n",
      "4\n",
      "6\n",
      "7\n",
      "True\n",
      "False\n"
     ]
    }
   ],
   "source": [
    "for i in A:\n",
    "    print(i)"
   ]
  },
  {
   "cell_type": "markdown",
   "id": "252d4506",
   "metadata": {},
   "source": [
    "# SET Methods"
   ]
  },
  {
   "cell_type": "code",
   "execution_count": 16,
   "id": "7c8506dd",
   "metadata": {},
   "outputs": [],
   "source": [
    "A={1,2,3,4,6,7}"
   ]
  },
  {
   "cell_type": "code",
   "execution_count": 18,
   "id": "ed5c2dd3",
   "metadata": {},
   "outputs": [
    {
     "data": {
      "text/plain": [
       "{1, 2, 3, 4, 6, 7}"
      ]
     },
     "execution_count": 18,
     "metadata": {},
     "output_type": "execute_result"
    }
   ],
   "source": [
    "A"
   ]
  },
  {
   "cell_type": "code",
   "execution_count": 19,
   "id": "596b979c",
   "metadata": {},
   "outputs": [],
   "source": [
    "A.add(9)"
   ]
  },
  {
   "cell_type": "code",
   "execution_count": 20,
   "id": "5bdc0160",
   "metadata": {},
   "outputs": [
    {
     "data": {
      "text/plain": [
       "{1, 2, 3, 4, 6, 7, 9}"
      ]
     },
     "execution_count": 20,
     "metadata": {},
     "output_type": "execute_result"
    }
   ],
   "source": [
    "A"
   ]
  },
  {
   "cell_type": "code",
   "execution_count": 21,
   "id": "d6369290",
   "metadata": {},
   "outputs": [],
   "source": [
    "A.add(1)"
   ]
  },
  {
   "cell_type": "code",
   "execution_count": 22,
   "id": "6505e2b4",
   "metadata": {},
   "outputs": [
    {
     "data": {
      "text/plain": [
       "{1, 2, 3, 4, 6, 7, 9}"
      ]
     },
     "execution_count": 22,
     "metadata": {},
     "output_type": "execute_result"
    }
   ],
   "source": [
    "A"
   ]
  },
  {
   "cell_type": "code",
   "execution_count": 23,
   "id": "7ad76fb6",
   "metadata": {},
   "outputs": [],
   "source": [
    "A.add(\"true\")"
   ]
  },
  {
   "cell_type": "code",
   "execution_count": 24,
   "id": "99f84f78",
   "metadata": {},
   "outputs": [
    {
     "data": {
      "text/plain": [
       "{1, 2, 3, 4, 6, 7, 9, 'true'}"
      ]
     },
     "execution_count": 24,
     "metadata": {},
     "output_type": "execute_result"
    }
   ],
   "source": [
    "A"
   ]
  },
  {
   "cell_type": "code",
   "execution_count": 25,
   "id": "314f6033",
   "metadata": {},
   "outputs": [
    {
     "data": {
      "text/plain": [
       "8"
      ]
     },
     "execution_count": 25,
     "metadata": {},
     "output_type": "execute_result"
    }
   ],
   "source": [
    "len(A)"
   ]
  },
  {
   "cell_type": "code",
   "execution_count": 27,
   "id": "f87d4a02",
   "metadata": {},
   "outputs": [],
   "source": [
    "A.update([100,21,23,122])"
   ]
  },
  {
   "cell_type": "code",
   "execution_count": 28,
   "id": "58da1e43",
   "metadata": {},
   "outputs": [
    {
     "data": {
      "text/plain": [
       "{1, 100, 122, 2, 21, 23, 3, 4, 6, 7, 9, 'true'}"
      ]
     },
     "execution_count": 28,
     "metadata": {},
     "output_type": "execute_result"
    }
   ],
   "source": [
    "A"
   ]
  },
  {
   "cell_type": "code",
   "execution_count": 29,
   "id": "39aa1570",
   "metadata": {},
   "outputs": [
    {
     "data": {
      "text/plain": [
       "12"
      ]
     },
     "execution_count": 29,
     "metadata": {},
     "output_type": "execute_result"
    }
   ],
   "source": [
    "len(A)"
   ]
  },
  {
   "cell_type": "code",
   "execution_count": 30,
   "id": "fbf24c84",
   "metadata": {},
   "outputs": [],
   "source": [
    "#UPDATE SET WITH A SET"
   ]
  },
  {
   "cell_type": "code",
   "execution_count": 31,
   "id": "9de58ac7",
   "metadata": {},
   "outputs": [
    {
     "data": {
      "text/plain": [
       "{1, 100, 122, 2, 21, 23, 3, 4, 6, 7, 9, 'true'}"
      ]
     },
     "execution_count": 31,
     "metadata": {},
     "output_type": "execute_result"
    }
   ],
   "source": [
    "A"
   ]
  },
  {
   "cell_type": "code",
   "execution_count": 32,
   "id": "3c28c59f",
   "metadata": {},
   "outputs": [],
   "source": [
    "B={54,25,43}"
   ]
  },
  {
   "cell_type": "code",
   "execution_count": 34,
   "id": "e19aeea5",
   "metadata": {},
   "outputs": [],
   "source": [
    "A.update(B)"
   ]
  },
  {
   "cell_type": "code",
   "execution_count": 35,
   "id": "ef08448c",
   "metadata": {},
   "outputs": [
    {
     "data": {
      "text/plain": [
       "{1, 100, 122, 2, 21, 23, 25, 3, 4, 43, 54, 6, 7, 9, 'true'}"
      ]
     },
     "execution_count": 35,
     "metadata": {},
     "output_type": "execute_result"
    }
   ],
   "source": [
    "A"
   ]
  },
  {
   "cell_type": "code",
   "execution_count": 36,
   "id": "fb16e0c6",
   "metadata": {},
   "outputs": [
    {
     "data": {
      "text/plain": [
       "15"
      ]
     },
     "execution_count": 36,
     "metadata": {},
     "output_type": "execute_result"
    }
   ],
   "source": [
    "len(A)"
   ]
  },
  {
   "cell_type": "code",
   "execution_count": 37,
   "id": "53d40d52",
   "metadata": {},
   "outputs": [],
   "source": [
    "A={1,2,3,4,6,7}"
   ]
  },
  {
   "cell_type": "code",
   "execution_count": 38,
   "id": "1c95cb14",
   "metadata": {},
   "outputs": [],
   "source": [
    "A.update({8,9,0})"
   ]
  },
  {
   "cell_type": "code",
   "execution_count": 39,
   "id": "60a49293",
   "metadata": {},
   "outputs": [
    {
     "data": {
      "text/plain": [
       "{0, 1, 2, 3, 4, 6, 7, 8, 9}"
      ]
     },
     "execution_count": 39,
     "metadata": {},
     "output_type": "execute_result"
    }
   ],
   "source": [
    "A"
   ]
  },
  {
   "cell_type": "code",
   "execution_count": 44,
   "id": "dbe96a42",
   "metadata": {},
   "outputs": [],
   "source": [
    "#remove...to remove an element of a set\n"
   ]
  },
  {
   "cell_type": "code",
   "execution_count": 41,
   "id": "0bbda37b",
   "metadata": {},
   "outputs": [
    {
     "data": {
      "text/plain": [
       "{0, 1, 2, 3, 4, 6, 7, 8, 9}"
      ]
     },
     "execution_count": 41,
     "metadata": {},
     "output_type": "execute_result"
    }
   ],
   "source": [
    "A"
   ]
  },
  {
   "cell_type": "code",
   "execution_count": 42,
   "id": "4cdf5439",
   "metadata": {},
   "outputs": [],
   "source": [
    "A.remove(2)"
   ]
  },
  {
   "cell_type": "code",
   "execution_count": 43,
   "id": "06b83ac0",
   "metadata": {},
   "outputs": [
    {
     "data": {
      "text/plain": [
       "{0, 1, 3, 4, 6, 7, 8, 9}"
      ]
     },
     "execution_count": 43,
     "metadata": {},
     "output_type": "execute_result"
    }
   ],
   "source": [
    "A"
   ]
  },
  {
   "cell_type": "code",
   "execution_count": 45,
   "id": "3ee7b957",
   "metadata": {},
   "outputs": [],
   "source": [
    "#pop...used to remnove any random element of a set"
   ]
  },
  {
   "cell_type": "code",
   "execution_count": 46,
   "id": "c0c9f854",
   "metadata": {},
   "outputs": [
    {
     "data": {
      "text/plain": [
       "{0, 1, 3, 4, 6, 7, 8, 9}"
      ]
     },
     "execution_count": 46,
     "metadata": {},
     "output_type": "execute_result"
    }
   ],
   "source": [
    "A"
   ]
  },
  {
   "cell_type": "code",
   "execution_count": 48,
   "id": "e2b148d1",
   "metadata": {},
   "outputs": [
    {
     "data": {
      "text/plain": [
       "0"
      ]
     },
     "execution_count": 48,
     "metadata": {},
     "output_type": "execute_result"
    }
   ],
   "source": [
    "A.pop()"
   ]
  },
  {
   "cell_type": "code",
   "execution_count": 49,
   "id": "de6dc91a",
   "metadata": {},
   "outputs": [
    {
     "data": {
      "text/plain": [
       "1"
      ]
     },
     "execution_count": 49,
     "metadata": {},
     "output_type": "execute_result"
    }
   ],
   "source": [
    "A.pop()"
   ]
  },
  {
   "cell_type": "code",
   "execution_count": 50,
   "id": "6b9c3b97",
   "metadata": {},
   "outputs": [
    {
     "data": {
      "text/plain": [
       "3"
      ]
     },
     "execution_count": 50,
     "metadata": {},
     "output_type": "execute_result"
    }
   ],
   "source": [
    "A.pop()"
   ]
  },
  {
   "cell_type": "code",
   "execution_count": 51,
   "id": "87f34802",
   "metadata": {},
   "outputs": [],
   "source": [
    "#clear...used to clear all elements of a set"
   ]
  },
  {
   "cell_type": "code",
   "execution_count": 52,
   "id": "8afd0500",
   "metadata": {},
   "outputs": [],
   "source": [
    "A.clear()"
   ]
  },
  {
   "cell_type": "code",
   "execution_count": 53,
   "id": "e7ab978f",
   "metadata": {},
   "outputs": [
    {
     "data": {
      "text/plain": [
       "set()"
      ]
     },
     "execution_count": 53,
     "metadata": {},
     "output_type": "execute_result"
    }
   ],
   "source": [
    "A"
   ]
  },
  {
   "cell_type": "code",
   "execution_count": 54,
   "id": "7317bb32",
   "metadata": {},
   "outputs": [
    {
     "data": {
      "text/plain": [
       "0"
      ]
     },
     "execution_count": 54,
     "metadata": {},
     "output_type": "execute_result"
    }
   ],
   "source": [
    "len(A)"
   ]
  },
  {
   "cell_type": "code",
   "execution_count": null,
   "id": "6fbbf97a",
   "metadata": {},
   "outputs": [],
   "source": []
  }
 ],
 "metadata": {
  "kernelspec": {
   "display_name": "Python 3",
   "language": "python",
   "name": "python3"
  },
  "language_info": {
   "codemirror_mode": {
    "name": "ipython",
    "version": 3
   },
   "file_extension": ".py",
   "mimetype": "text/x-python",
   "name": "python",
   "nbconvert_exporter": "python",
   "pygments_lexer": "ipython3",
   "version": "3.8.8"
  }
 },
 "nbformat": 4,
 "nbformat_minor": 5
}
