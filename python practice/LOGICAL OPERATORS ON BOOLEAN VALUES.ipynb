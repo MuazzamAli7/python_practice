{
 "cells": [
  {
   "cell_type": "markdown",
   "id": "2d518373",
   "metadata": {},
   "source": [
    "# LOGICAL OPERATORS AND BOOLEAN VALUES"
   ]
  },
  {
   "cell_type": "code",
   "execution_count": 1,
   "id": "5b9e4f13",
   "metadata": {},
   "outputs": [],
   "source": [
    "# & MEAN LOGICAL AND...MULTIPICATION\n",
    "# | MEAN LOGICAL OR....ADDITION\n",
    "# TRUE =1\n",
    "# FALSE=0\n",
    "# TRUE & FALSE=FALSE\n",
    "# FALSE &FALSE=FASLE\n",
    "# TRUE OR FALSE=FALSE\n",
    "# ETC"
   ]
  },
  {
   "cell_type": "code",
   "execution_count": 2,
   "id": "86bf907a",
   "metadata": {},
   "outputs": [
    {
     "data": {
      "text/plain": [
       "True"
      ]
     },
     "execution_count": 2,
     "metadata": {},
     "output_type": "execute_result"
    }
   ],
   "source": [
    "True or xTrue"
   ]
  },
  {
   "cell_type": "code",
   "execution_count": 3,
   "id": "417b9d96",
   "metadata": {},
   "outputs": [
    {
     "data": {
      "text/plain": [
       "True"
      ]
     },
     "execution_count": 3,
     "metadata": {},
     "output_type": "execute_result"
    }
   ],
   "source": [
    "True | False"
   ]
  },
  {
   "cell_type": "code",
   "execution_count": 4,
   "id": "18ea0a08",
   "metadata": {},
   "outputs": [
    {
     "data": {
      "text/plain": [
       "False"
      ]
     },
     "execution_count": 4,
     "metadata": {},
     "output_type": "execute_result"
    }
   ],
   "source": [
    "False|False"
   ]
  },
  {
   "cell_type": "code",
   "execution_count": 5,
   "id": "ad6f33ba",
   "metadata": {},
   "outputs": [
    {
     "data": {
      "text/plain": [
       "True"
      ]
     },
     "execution_count": 5,
     "metadata": {},
     "output_type": "execute_result"
    }
   ],
   "source": [
    "x=5\n",
    "x>3"
   ]
  },
  {
   "cell_type": "code",
   "execution_count": 6,
   "id": "1053c359",
   "metadata": {},
   "outputs": [],
   "source": [
    "x=9"
   ]
  },
  {
   "cell_type": "code",
   "execution_count": 7,
   "id": "cfe474fc",
   "metadata": {},
   "outputs": [
    {
     "data": {
      "text/plain": [
       "False"
      ]
     },
     "execution_count": 7,
     "metadata": {},
     "output_type": "execute_result"
    }
   ],
   "source": [
    "x<2"
   ]
  },
  {
   "cell_type": "code",
   "execution_count": 12,
   "id": "e1514063",
   "metadata": {},
   "outputs": [],
   "source": [
    "x=12"
   ]
  },
  {
   "cell_type": "code",
   "execution_count": 14,
   "id": "ea1a1f58",
   "metadata": {},
   "outputs": [
    {
     "data": {
      "text/plain": [
       "True"
      ]
     },
     "execution_count": 14,
     "metadata": {},
     "output_type": "execute_result"
    }
   ],
   "source": [
    "(x>2)|(x<3)"
   ]
  },
  {
   "cell_type": "code",
   "execution_count": 15,
   "id": "bf45b33b",
   "metadata": {},
   "outputs": [
    {
     "data": {
      "text/plain": [
       "False"
      ]
     },
     "execution_count": 15,
     "metadata": {},
     "output_type": "execute_result"
    }
   ],
   "source": [
    "(x==4)&(x!=2)"
   ]
  },
  {
   "cell_type": "code",
   "execution_count": 16,
   "id": "18face3e",
   "metadata": {},
   "outputs": [
    {
     "data": {
      "text/plain": [
       "False"
      ]
     },
     "execution_count": 16,
     "metadata": {},
     "output_type": "execute_result"
    }
   ],
   "source": [
    "(x>23)and(x>3)"
   ]
  },
  {
   "cell_type": "code",
   "execution_count": null,
   "id": "e964bd8f",
   "metadata": {},
   "outputs": [],
   "source": []
  }
 ],
 "metadata": {
  "kernelspec": {
   "display_name": "Python 3",
   "language": "python",
   "name": "python3"
  },
  "language_info": {
   "codemirror_mode": {
    "name": "ipython",
    "version": 3
   },
   "file_extension": ".py",
   "mimetype": "text/x-python",
   "name": "python",
   "nbconvert_exporter": "python",
   "pygments_lexer": "ipython3",
   "version": "3.8.8"
  }
 },
 "nbformat": 4,
 "nbformat_minor": 5
}
