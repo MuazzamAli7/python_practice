{
 "cells": [
  {
   "cell_type": "code",
   "execution_count": 1,
   "id": "4be11526",
   "metadata": {},
   "outputs": [],
   "source": [
    "#CONCATENATION IS BASICALLY DONE ON LISTS,STRINGS AND TUPLES"
   ]
  },
  {
   "cell_type": "code",
   "execution_count": 2,
   "id": "e40cf3d3",
   "metadata": {},
   "outputs": [
    {
     "data": {
      "text/plain": [
       "35"
      ]
     },
     "execution_count": 2,
     "metadata": {},
     "output_type": "execute_result"
    }
   ],
   "source": [
    "x=12\n",
    "y=23\n",
    "x+y"
   ]
  },
  {
   "cell_type": "markdown",
   "id": "e6e88a1f",
   "metadata": {},
   "source": [
    "# strings"
   ]
  },
  {
   "cell_type": "code",
   "execution_count": 5,
   "id": "79978ec6",
   "metadata": {},
   "outputs": [],
   "source": [
    "x='this is '\n",
    "y='awesome'"
   ]
  },
  {
   "cell_type": "code",
   "execution_count": 7,
   "id": "a46638a1",
   "metadata": {},
   "outputs": [
    {
     "data": {
      "text/plain": [
       "'this is awesome'"
      ]
     },
     "execution_count": 7,
     "metadata": {},
     "output_type": "execute_result"
    }
   ],
   "source": [
    "x+y"
   ]
  },
  {
   "cell_type": "code",
   "execution_count": 8,
   "id": "0cc713b4",
   "metadata": {},
   "outputs": [],
   "source": [
    "x='muazzam is a '\n",
    "y='great researcher'"
   ]
  },
  {
   "cell_type": "code",
   "execution_count": 9,
   "id": "d3a6fd32",
   "metadata": {},
   "outputs": [
    {
     "data": {
      "text/plain": [
       "'muazzam is a great researcher'"
      ]
     },
     "execution_count": 9,
     "metadata": {},
     "output_type": "execute_result"
    }
   ],
   "source": [
    "x+y"
   ]
  },
  {
   "cell_type": "markdown",
   "id": "8e8efa3b",
   "metadata": {},
   "source": [
    "# lists"
   ]
  },
  {
   "cell_type": "code",
   "execution_count": 10,
   "id": "b891324c",
   "metadata": {},
   "outputs": [],
   "source": [
    "a=[1,2,3,4,5]\n",
    "b=[2,3,8,7]"
   ]
  },
  {
   "cell_type": "code",
   "execution_count": 11,
   "id": "48b1fa93",
   "metadata": {},
   "outputs": [
    {
     "data": {
      "text/plain": [
       "[1, 2, 3, 4, 5, 2, 3, 8, 7]"
      ]
     },
     "execution_count": 11,
     "metadata": {},
     "output_type": "execute_result"
    }
   ],
   "source": [
    "a+b"
   ]
  },
  {
   "cell_type": "markdown",
   "id": "d4084fe8",
   "metadata": {},
   "source": [
    "# tuples"
   ]
  },
  {
   "cell_type": "code",
   "execution_count": 12,
   "id": "04422dba",
   "metadata": {},
   "outputs": [],
   "source": [
    "a=(1,2,3)\n",
    "b=(7,8,9)"
   ]
  },
  {
   "cell_type": "code",
   "execution_count": 13,
   "id": "458202e6",
   "metadata": {},
   "outputs": [
    {
     "data": {
      "text/plain": [
       "(1, 2, 3, 7, 8, 9)"
      ]
     },
     "execution_count": 13,
     "metadata": {},
     "output_type": "execute_result"
    }
   ],
   "source": [
    "a+b"
   ]
  },
  {
   "cell_type": "code",
   "execution_count": null,
   "id": "09858c35",
   "metadata": {},
   "outputs": [],
   "source": []
  }
 ],
 "metadata": {
  "kernelspec": {
   "display_name": "Python 3",
   "language": "python",
   "name": "python3"
  },
  "language_info": {
   "codemirror_mode": {
    "name": "ipython",
    "version": 3
   },
   "file_extension": ".py",
   "mimetype": "text/x-python",
   "name": "python",
   "nbconvert_exporter": "python",
   "pygments_lexer": "ipython3",
   "version": "3.8.8"
  }
 },
 "nbformat": 4,
 "nbformat_minor": 5
}
